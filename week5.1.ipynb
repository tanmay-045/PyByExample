{
 "cells": [
  {
   "cell_type": "markdown",
   "id": "dfb9069f-1940-4735-bf27-79d0e70b5052",
   "metadata": {},
   "source": [
    "### Q1. Explain why we have to use the Exception class while creating a Custom Exception.\n",
    "\n",
    "By inheriting from the 'Exception' class our custom exception becomes part of the standard exception hierarchy, \n",
    "making it compatible with standard exception handling and future changes. "
   ]
  },
  {
   "cell_type": "markdown",
   "id": "9226727b-0435-4e96-ad25-3f8db32550f4",
   "metadata": {},
   "source": [
    "### Q2. Write a python program to print Python Exception Hierarchy\n",
    "\n",
    "It follows\n",
    "try>Except>Else>Finally\n",
    "\n",
    "Example:"
   ]
  },
  {
   "cell_type": "code",
   "execution_count": 1,
   "id": "35cf7e64-e916-40f5-8ce3-1fc8a8c751c4",
   "metadata": {},
   "outputs": [
    {
     "name": "stdout",
     "output_type": "stream",
     "text": [
      "No Exception Raised\n",
      "File Closed Successfully\n"
     ]
    }
   ],
   "source": [
    "try:\n",
    "    f = open('NewFile.txt','w')\n",
    "    f.write('Hello World!')\n",
    "except FileNotFoundError as e:\n",
    "    print(e)\n",
    "else:\n",
    "    print('No Exception Raised')\n",
    "finally:\n",
    "    f.close()\n",
    "    print('File Closed Successfully')    "
   ]
  },
  {
   "cell_type": "markdown",
   "id": "525b0bff-5691-4823-878f-102d111fc3cb",
   "metadata": {
    "jupyter": {
     "source_hidden": true
    },
    "tags": []
   },
   "source": [
    "### Q3. What errors are defined in the ArithmeticError class? Explain any two with an example.\n",
    "\n",
    "The ArithmeticError class is a base class for exceptions that are raised for various arithmetic errors, like division by Zero etc.<br>\n",
    "Two examples are:-<br>\n",
    "1.ZeroDivisionError- Raised when a number is divisible by zero.<br>\n",
    "2.FloatingPointError- Raised when a floating-point operation fails to produce a valid result.<br>\n",
    "3.OverFlowError- Raised when the result of an arithmetic operation exceeds the representational limits of the data type."
   ]
  },
  {
   "cell_type": "code",
   "execution_count": 2,
   "id": "47c635b7-9ce3-4c1f-8f5b-6c271b76aedb",
   "metadata": {},
   "outputs": [],
   "source": [
    "# OverFlowError\n",
    "\n",
    "def mul(num1,num2):\n",
    "    try:\n",
    "        m=num1*num2\n",
    "        return f'Multiplication= {m}'\n",
    "    except OverflowError as e:\n",
    "        print(e)\n",
    "        return None"
   ]
  },
  {
   "cell_type": "code",
   "execution_count": 3,
   "id": "69883921-82f9-4c8c-9486-23de59a625af",
   "metadata": {},
   "outputs": [
    {
     "name": "stdout",
     "output_type": "stream",
     "text": [
      "Error:  division by zero\n"
     ]
    }
   ],
   "source": [
    "# ZeroDivisionError\n",
    "\n",
    "def div(num1,num2):\n",
    "    try:\n",
    "        d=num1/num2\n",
    "        return f'Division= {d}'\n",
    "    except ZeroDivisionError as e:\n",
    "        print('Error: ',e)\n",
    "        return None\n",
    "div(4,0)"
   ]
  },
  {
   "cell_type": "code",
   "execution_count": 4,
   "id": "a92827c3-3aa4-4ba1-acf9-0c79007e38ea",
   "metadata": {},
   "outputs": [
    {
     "name": "stdout",
     "output_type": "stream",
     "text": [
      "Error:  float division by zero\n"
     ]
    }
   ],
   "source": [
    "# FloatingPointError 0r ArithmeticError\n",
    "\n",
    "def div1(a):\n",
    "    try:\n",
    "        a/0.0\n",
    "        return None\n",
    "    except ArithmeticError as e:\n",
    "        print('Error: ',e)\n",
    "        return None\n",
    "    \n",
    "div1(3)"
   ]
  },
  {
   "cell_type": "markdown",
   "id": "75382103-8c2e-489e-a9ea-d34434ef4d80",
   "metadata": {},
   "source": [
    "### Q4. Why LookupError class is used? Explain with an example KeyError and IndexError.\n",
    "\n",
    "The LookupError class in Python serves as a base class for exceptions that are raised when a key or index used to look up a value in a mapping (like a dictionary) or a sequence (like a list) is not found.<br>"
   ]
  },
  {
   "cell_type": "code",
   "execution_count": 5,
   "id": "2eff077d-46bb-45cd-8b27-968bdb104207",
   "metadata": {},
   "outputs": [
    {
     "name": "stdout",
     "output_type": "stream",
     "text": [
      "Error :  'School'\n"
     ]
    }
   ],
   "source": [
    "# KeyError\n",
    "\n",
    "dict1={\n",
    "    'Name':'Justin',\n",
    "    'Class':'High School',\n",
    "    'Id': 123 \n",
    "    }\n",
    "try:\n",
    "    print(dict1[\"School\"])\n",
    "except KeyError as e:\n",
    "    print('Error : ',e)"
   ]
  },
  {
   "cell_type": "code",
   "execution_count": 6,
   "id": "6d3592aa-3076-40e6-82e5-f9083aa24a2b",
   "metadata": {},
   "outputs": [
    {
     "name": "stdout",
     "output_type": "stream",
     "text": [
      "Error :  list index out of range\n"
     ]
    }
   ],
   "source": [
    "# IndexError\n",
    "\n",
    "lst1=[67,34,23,44,78]\n",
    "try:\n",
    "    lst1[5]\n",
    "except IndexError as e:\n",
    "    print('Error : ',e)"
   ]
  },
  {
   "cell_type": "markdown",
   "id": "200abfdd-b247-43bc-9012-6957f167c4c0",
   "metadata": {},
   "source": [
    "### Q5. Explain ImportError. What is ModuleNotFoundError?\n",
    "ImportError is an exception in Python that is raised when an import statement fails to import a module or when a specific attribute or name from a module cannot be found.\n",
    "<br>\n",
    "ModuleNotFoundError, it is a more specific subclass of ImportError that is raised when a module is not found during the import process."
   ]
  },
  {
   "cell_type": "code",
   "execution_count": 7,
   "id": "f70fd928-77d9-4ccf-b201-6d946f32ef7f",
   "metadata": {},
   "outputs": [
    {
     "name": "stdout",
     "output_type": "stream",
     "text": [
      "Error:  No module named 'ovbb'\n"
     ]
    }
   ],
   "source": [
    "# ModuleNotFoundError\n",
    "\n",
    "try:\n",
    "    import ovbb\n",
    "except ModuleNotFoundError as e:\n",
    "    print('Error: ',e)"
   ]
  },
  {
   "cell_type": "markdown",
   "id": "92d80878-00ea-4f76-8ec2-c6cfc3596567",
   "metadata": {},
   "source": [
    "### Q6. List down some best practices for exception handling in python. \n",
    "\n",
    "1.Be specific in except clauses. Catch only the exceptions you expect and can handle, rather than catching a broad range of exceptions. This helps in understanding and debugging the code.<br><br>\n",
    "2.Use the finally block to ensure that cleanup code is executed, regardless of whether an exception occurs or not. Common use cases include releasing resources or closing files.<br><br>\n",
    "3.Use logging to record details about exceptions. This helps in diagnosing issues during development and debugging, without exposing sensitive information in production.<br>"
   ]
  }
 ],
 "metadata": {
  "kernelspec": {
   "display_name": "Python 3 (ipykernel)",
   "language": "python",
   "name": "python3"
  },
  "language_info": {
   "codemirror_mode": {
    "name": "ipython",
    "version": 3
   },
   "file_extension": ".py",
   "mimetype": "text/x-python",
   "name": "python",
   "nbconvert_exporter": "python",
   "pygments_lexer": "ipython3",
   "version": "3.10.8"
  }
 },
 "nbformat": 4,
 "nbformat_minor": 5
}
