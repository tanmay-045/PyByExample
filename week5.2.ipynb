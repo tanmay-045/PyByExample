{
 "cells": [
  {
   "cell_type": "markdown",
   "id": "991ddf02-fed9-43fe-9dea-40087243ec4a",
   "metadata": {},
   "source": [
    "### Q1. What is multithreading in python? Why is it used? Name the module used to handle threads in python?\n",
    "\n",
    "Multithreading is a technique in programming that allows a program to perform multiple tasks simultaneously, making the most of modern multi-core processors. It's like having multiple workers (threads) in your program, each doing a different job.<br><br>\n",
    "In Python, it's especially useful for tasks that can be split into smaller, independent parts that can run concurrently. For example, we might use multithreading for:<br>\n",
    "1.Downloading multiple files simultaneously.<br>\n",
    "2.Processing data in the background while keeping the main program responsive.<br>\n",
    "3.Running tasks concurrently in a web server to handle multiple client requests.<br><br>\n",
    "The module that is used to handle threads in python is 'multithreading'"
   ]
  },
  {
   "cell_type": "markdown",
   "id": "99ddeb1b-f375-4bf4-9a7d-35ec376f939f",
   "metadata": {},
   "source": [
    "### Q2. Why threading module used? Write the use of the following functions:-\n",
    "## 1. activeCount()\n",
    "## 2. currentThread()\n",
    "## 3. enumerate()\n",
    "\n",
    "\n",
    "The threading module in Python is essential for implementing multithreading, allowing concurrent execution of tasks within the same process. Threads run independently, sharing resources and improving program performance. While beneficial for I/O-bound operations and enhancing responsiveness in UI applications, Python's Global Interpreter Lock restricts true parallel execution. The module provides tools for creating, managing, and synchronizing threads, enabling modularity and resource sharing.<br>\n",
    "\n",
    "1. activeCount()<br>\n",
    "The activeCount() method in the threading module in Python is used to retrieve the current number of Thread objects that are currently alive. A \"live\" thread is a thread that has been created and has not yet terminated. This method provides a count of the threads that are actively running or are in a runnable state.<br>\n",
    "\n",
    "2. currentThread()<br>\n",
    "The currentThread() method in the threading module in Python is used to obtain a reference to the current Thread object, representing the thread that the method is called from. This method is useful for obtaining information about the currently executing thread, such as its name or identifier.<br>\n",
    "\n",
    "3. enumerate()<br>\n",
    "Return a list of all Thread objects currently active. The list includes daemonic threads and dummy thread objects created by current_thread(). It excludes terminated threads and threads that have not yet been started. However, the main thread is always part of the result, even when terminated."
   ]
  },
  {
   "cell_type": "code",
   "execution_count": 1,
   "id": "01fb8587-98a1-4f0d-94f0-7d677a85fe25",
   "metadata": {},
   "outputs": [],
   "source": [
    "import time\n",
    "import threading"
   ]
  },
  {
   "cell_type": "code",
   "execution_count": 2,
   "id": "11e92427-686c-4546-8482-6606804394a9",
   "metadata": {},
   "outputs": [
    {
     "name": "stdout",
     "output_type": "stream",
     "text": [
      "Count Number 1\n",
      "Active threads 9\n",
      "Count Number 2\n",
      "Count Number 3\n",
      "Count Number 4\n",
      "Count Number 5\n",
      "Active threads 8\n"
     ]
    }
   ],
   "source": [
    "# activeCount() ('deprecated warning' use 'active_count()' instead)\n",
    "\n",
    "def count():\n",
    "    for i in range(5):\n",
    "        print(f'Count Number {i+1}')\n",
    "        time.sleep(1)\n",
    "    return None\n",
    "\n",
    "thread1=threading.Thread(target=count)\n",
    "thread1.start()\n",
    "print(f\"Active threads {threading.active_count()}\")\n",
    "thread1.join()\n",
    "print(f\"Active threads {threading.active_count()}\")"
   ]
  },
  {
   "cell_type": "code",
   "execution_count": 3,
   "id": "eb18e68b-f9ce-4d84-a182-85a0a5346267",
   "metadata": {},
   "outputs": [
    {
     "name": "stdout",
     "output_type": "stream",
     "text": [
      "Current Thread Name: CustomThread\n",
      "Current Thread Name: MainThread\n"
     ]
    }
   ],
   "source": [
    "# currentThread() ( 'current_thread()' )\n",
    "\n",
    "import threading\n",
    "\n",
    "def print_current_thread():\n",
    "    current_thread = threading.current_thread()\n",
    "    print(f\"Current Thread Name: {current_thread.name}\")\n",
    "\n",
    "# Create and start a thread\n",
    "my_thread = threading.Thread(target=print_current_thread, name=\"CustomThread\")\n",
    "my_thread.start()\n",
    "my_thread.join()\n",
    "\n",
    "# Call the function from the main thread\n",
    "print_current_thread()\n"
   ]
  },
  {
   "cell_type": "code",
   "execution_count": 4,
   "id": "7c7ade94-adbb-46bc-bc4e-0fd3b1bcd390",
   "metadata": {},
   "outputs": [
    {
     "name": "stdout",
     "output_type": "stream",
     "text": [
      "Thread Thread-1 is running\n",
      "Thread Thread-2 is running\n",
      "Main Thread: MainThread\n",
      "Active Threads: 10\n",
      "Thread Name: MainThread, Thread ID: 140595784079168\n",
      "Thread Name: IOPub, Thread ID: 140595713549888\n",
      "Thread Name: Heartbeat, Thread ID: 140595705157184\n",
      "Thread Name: Thread-3 (_watch_pipe_fd), Thread ID: 140595477603904\n",
      "Thread Name: Thread-4 (_watch_pipe_fd), Thread ID: 140595469211200\n",
      "Thread Name: Control, Thread ID: 140595460818496\n",
      "Thread Name: IPythonHistorySavingThread, Thread ID: 140595452425792\n",
      "Thread Name: Thread-2, Thread ID: 140595444033088\n",
      "Thread Name: Thread-1, Thread ID: 140595435640384\n",
      "Thread Name: Thread-2, Thread ID: 140594949125696\n",
      "Thread Thread-1 is running\n",
      "Thread Thread-2 is running\n",
      "Thread Thread-1 is running\n",
      "Thread Thread-2 is running\n",
      "Thread Thread-1 is running\n",
      "Thread Thread-2 is running\n",
      "Thread Thread-1 is running\n",
      "Thread Thread-2 is running\n",
      "Active Threads After Completion: 8\n"
     ]
    }
   ],
   "source": [
    "# enumerate()\n",
    "def my_function():\n",
    "    for _ in range(5):\n",
    "        print(f\"Thread {threading.current_thread().name} is running\")\n",
    "        time.sleep(1)\n",
    "\n",
    "# Create two threads\n",
    "thread1 = threading.Thread(target=my_function, name=\"Thread-1\")\n",
    "thread2 = threading.Thread(target=my_function, name=\"Thread-2\")\n",
    "\n",
    "# Start the threads\n",
    "thread1.start()\n",
    "thread2.start()\n",
    "\n",
    "# Main thread information\n",
    "print(f\"Main Thread: {threading.current_thread().name}\")\n",
    "\n",
    "# Display information about all active threads\n",
    "active_threads = threading.enumerate()\n",
    "print(f\"Active Threads: {len(active_threads)}\")\n",
    "for thread in active_threads:\n",
    "    print(f\"Thread Name: {thread.name}, Thread ID: {thread.ident}\")\n",
    "\n",
    "# Wait for threads to finish\n",
    "thread1.join()\n",
    "thread2.join()\n",
    "\n",
    "# Display information again after threads have finished\n",
    "active_threads_after_completion = threading.enumerate()\n",
    "print(f\"Active Threads After Completion: {len(active_threads_after_completion)}\")"
   ]
  },
  {
   "cell_type": "code",
   "execution_count": 5,
   "id": "b73686c0-19f2-4112-9110-6c06f9cc878d",
   "metadata": {},
   "outputs": [
    {
     "name": "stdout",
     "output_type": "stream",
     "text": [
      "Index: 0   Value: 1\n",
      "Index: 1   Value: two\n",
      "Index: 2   Value: 3\n",
      "Index: 3   Value: four\n",
      "Index: 4   Value: 5\n",
      "Index: 5   Value: six\n",
      "Index: 6   Value: 7\n"
     ]
    }
   ],
   "source": [
    "# --Extra--\n",
    "# The enumerate() function in Python is used to iterate over a sequence \n",
    "# (such as a list, tuple, or string) \n",
    "# while keeping track of the index and the corresponding element. \n",
    "# It returns pairs of index and element, \n",
    "# making it easier to retrieve both values during the iteration.\n",
    "\n",
    "\n",
    "# enumerate() The enumerate() function is commonly used in loops,\n",
    "# where you need both the index and the corresponding value, \n",
    "# making the code more expressive and Pythonic.\n",
    "\n",
    "lst=[1,'two',3,'four',5,'six',7]\n",
    "\n",
    "for index,elt in enumerate(lst):\n",
    "    print(f'Index: {index}   Value: {elt}')"
   ]
  },
  {
   "cell_type": "markdown",
   "id": "5d66c030-56a4-49af-b9c5-f4d0de29075c",
   "metadata": {},
   "source": [
    "### Q3. Explain the following functions:-\n",
    "## 1. run()\n",
    "## 2. start()\n",
    "## 3. join()\n",
    "## 4. isAlive()\n",
    "\n",
    "1. run()\n",
    "The run() method is a fundamental method that can be overridden in a class that extends the 'threading.Thread' class. The run() method contains the code that will be executed when the thread is started.\n",
    "\n",
    "2. start()\n",
    "The start() method in the threading module is used to begin the execution of a thread. It initiates the thread's activity, and the Python interpreter calls the run() method of the thread. The run() method is the entry point for the code that will be executed in the new thread.\n",
    "\n",
    "3. join()\n",
    "The join() method in the threading module is used to wait for a thread to complete its execution before proceeding with the rest of the program. It is called on a Thread object and causes the program to block until the specified thread has finished.\n",
    "\n",
    "4. isAlive()\n",
    "The isAlive() method in the threading module is used to determine whether a thread is currently executing or has finished its execution. It returns True if the thread is still active and False otherwise."
   ]
  },
  {
   "cell_type": "code",
   "execution_count": 6,
   "id": "c6d48b74-8523-4d0d-9619-cbf5cf86b0bb",
   "metadata": {},
   "outputs": [
    {
     "name": "stdout",
     "output_type": "stream",
     "text": [
      "Thread Thread-6:0\n",
      "Thread Thread-6:1\n",
      "Thread Thread-6:2\n",
      "Thread Thread-6:3\n",
      "Thread Thread-6:4\n",
      "Main Thread: 0\n",
      "Main Thread: 1\n",
      "Main Thread: 2\n"
     ]
    }
   ],
   "source": [
    "# run()\n",
    "\n",
    "class new_thread(threading.Thread):\n",
    "    def run(self):\n",
    "        for i in range(5):\n",
    "            print(f\"Thread {self.name}:{i}\")\n",
    "\n",
    "my_thread = new_thread()\n",
    "\n",
    "# Start the thread, which will automatically call the run() method\n",
    "my_thread.start()\n",
    "\n",
    "# Main thread continues execution\n",
    "for j in range(3):\n",
    "    print(f\"Main Thread: {j}\")\n"
   ]
  },
  {
   "cell_type": "code",
   "execution_count": 7,
   "id": "b259fd25-6ae6-4737-b9d3-a63422c75754",
   "metadata": {},
   "outputs": [
    {
     "name": "stdout",
     "output_type": "stream",
     "text": [
      "Thread: CustomThread, Count: 0\n",
      "Waiting for the thread to finish...\n",
      "Thread: CustomThread, Count: 1\n",
      "Waiting for the thread to finish...\n",
      "Thread: CustomThread, Count: 2Waiting for the thread to finish...\n",
      "\n",
      "Waiting for the thread to finish...\n",
      "Thread: CustomThread, Count: 3\n",
      "Waiting for the thread to finish...\n",
      "Thread: CustomThread, Count: 4\n",
      "Waiting for the thread to finish...\n",
      "Thread has finished its execution.\n"
     ]
    }
   ],
   "source": [
    "# isAlive() ( 'is_alive()' )\n",
    "\n",
    "def my_function():\n",
    "    for i in range(5):\n",
    "        print(f\"Thread: {threading.current_thread().name}, Count: {i}\")\n",
    "        time.sleep(1)\n",
    "\n",
    "# Create a thread\n",
    "my_thread = threading.Thread(target=my_function, name=\"CustomThread\")\n",
    "\n",
    "# Start the thread\n",
    "my_thread.start()\n",
    "\n",
    "# Check if the thread is alive\n",
    "while my_thread.is_alive():\n",
    "    print(\"Waiting for the thread to finish...\")\n",
    "    time.sleep(1)\n",
    "\n",
    "print(\"Thread has finished its execution.\")\n"
   ]
  },
  {
   "cell_type": "markdown",
   "id": "92de4ec8-a389-4cb9-a399-fd2c80a68581",
   "metadata": {},
   "source": [
    "### Q4. Write a python program to create two threads. Thread one must print the list of squares and thread two must print the list of cubes."
   ]
  },
  {
   "cell_type": "code",
   "execution_count": 8,
   "id": "28d83576-de68-4910-9ebf-98f93bd59bda",
   "metadata": {},
   "outputs": [
    {
     "name": "stdout",
     "output_type": "stream",
     "text": [
      "square of 5 is 25\n",
      "square of 6 is 36\n",
      "square of 7 is 49\n",
      "square of 8 is 64\n",
      "square of 9 is 81\n",
      "cube of 5 is 125\n",
      "cube of 6 is 216\n",
      "cube of 7 is 343\n",
      "cube of 8 is 512\n",
      "cube of 9 is 729\n"
     ]
    }
   ],
   "source": [
    "def square(s):\n",
    "    print(f'square of {s} is {s*s}')\n",
    "def cube(c):\n",
    "    print(f'cube of {c} is {c**3}')\n",
    "\n",
    "my_list=[5,6,7,8,9]\n",
    "\n",
    "thread1=[threading.Thread(target=square, args=(i,)) for i in my_list]\n",
    "thread2=[threading.Thread(target=cube, args=(i,)) for i in my_list]\n",
    "\n",
    "for t1 in thread1:\n",
    "    t1.start()\n",
    "for t1 in thread1:\n",
    "    t1.join()\n",
    "    \n",
    "for t2 in thread2:\n",
    "    t2.start()\n",
    "for t2 in thread2:\n",
    "    t2.join()"
   ]
  },
  {
   "cell_type": "markdown",
   "id": "598b2895-8d89-48dd-a193-1266e82ab91a",
   "metadata": {},
   "source": [
    "### 5. State advantages and disadvantages of multithreading.\n",
    "<br>\n",
    "Advantages of Multithreading:<br>\n",
    "1. Improved Performance: Enables concurrent execution, boosting overall program performance.<br>\n",
    "2. Resource Sharing: Threads within the same process share memory, facilitating efficient data sharing.<br>\n",
    "3. Responsiveness: Ideal for GUI applications, preventing UI freezes during background tasks.<br>\n",
    "4. Parallelism in I/O: Well-suited for concurrent I/O operations, optimizing resource usage.<br>\n",
    "5. Modularity: Allows for modular code organization, enhancing maintainability.<br>\n",
    "<br>\n",
    "Disadvantages of Multithreading:<br>\n",
    "1.Complexity: Increases code complexity and debugging challenges.<br>\n",
    "2.Global Interpreter Lock (GIL): Limits true parallel execution in CPython, impacting CPU-bound tasks.<br>\n",
    "3.Synchronization Overhead: Coordinating access to shared resources introduces performance overhead.<br>\n",
    "4.Potential for Deadlocks: Contention for multiple resources may lead to deadlock situations.<br>\n",
    "5.Difficulty in Testing: Non-deterministic behavior complicates testing and predictability.<br>"
   ]
  },
  {
   "cell_type": "markdown",
   "id": "e47a4298-c163-428e-85fb-4ac6e6d132ff",
   "metadata": {},
   "source": [
    "### Q6. Explain deadlocks and race conditions.\n",
    "\n",
    "### Deadlocks:\n",
    "\n",
    "**Definition:** A deadlock is a situation in multithreading where two or more threads are unable to proceed because each is waiting for the other to release a resource.\n",
    "\n",
    "**Causes:**\n",
    "1. **Circular Waiting:** Threads hold resources and wait for others in a circular chain.\n",
    "2. **No Preemption:** Resources cannot be forcibly taken from a thread; they must be released voluntarily.\n",
    "\n",
    "**Example Scenario:**\n",
    "- Thread A holds Resource 1 and requests Resource 2.\n",
    "- Thread B holds Resource 2 and requests Resource 1.\n",
    "\n",
    "**Result:** Both threads are waiting for a resource that the other holds, leading to a perpetual wait state.\n",
    "\n",
    "### Race Conditions:\n",
    "\n",
    "**Definition:** A race condition occurs when two or more threads access shared data concurrently, and the final outcome depends on the order of execution.\n",
    "\n",
    "**Causes:**\n",
    "1. **Non-Atomic Operations:** Operations involving shared data are not atomic (indivisible).\n",
    "2. **Lack of Synchronization:** No proper synchronization mechanisms to control access to shared resources.\n",
    "\n",
    "**Example Scenario:**\n",
    "- Two threads concurrently increment a shared counter without proper synchronization.\n",
    "\n",
    "**Result:** The final value of the counter may not be the expected sum, as increments may overlap, leading to data inconsistency.\n",
    "\n",
    "### Summary:\n",
    "\n",
    "- **Deadlocks:** Threads are stuck in a cyclic waiting state due to resource contention.\n",
    "- **Race Conditions:** Unpredictable outcomes arise from concurrent access to shared data without proper synchronization.\n",
    "  \n",
    "Both deadlocks and race conditions can introduce bugs and unexpected behavior in multithreaded programs. Mitigating these issues requires careful synchronization and resource management in the code"
   ]
  }
 ],
 "metadata": {
  "kernelspec": {
   "display_name": "Python 3 (ipykernel)",
   "language": "python",
   "name": "python3"
  },
  "language_info": {
   "codemirror_mode": {
    "name": "ipython",
    "version": 3
   },
   "file_extension": ".py",
   "mimetype": "text/x-python",
   "name": "python",
   "nbconvert_exporter": "python",
   "pygments_lexer": "ipython3",
   "version": "3.10.8"
  }
 },
 "nbformat": 4,
 "nbformat_minor": 5
}
