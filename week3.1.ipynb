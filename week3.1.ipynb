{
 "cells": [
  {
   "cell_type": "markdown",
   "id": "56257c6d-a6e0-412d-aebd-e934f9a8e360",
   "metadata": {},
   "source": [
    "## Q1. Create a python program to sort the given list of tuples based on integer value using a lambda function. \n",
    "## [('Sachin Tendulkar', 34357), ('Ricky Ponting', 27483), ('Jack Kallis', 25534), ('Virat Kohli', 24936)]"
   ]
  },
  {
   "cell_type": "code",
   "execution_count": 1,
   "id": "77644bbf-ad46-4570-b388-cfab31ee20d6",
   "metadata": {},
   "outputs": [
    {
     "name": "stdout",
     "output_type": "stream",
     "text": [
      "('Virat Kohli', 24936)\n",
      "('Jack Kallis', 25534)\n",
      "('Ricky Ponting', 27483)\n",
      "('Sachin Tendulkar', 34357)\n"
     ]
    }
   ],
   "source": [
    "list_1 = [('Sachin Tendulkar', 34357), ('Ricky Ponting', 27483), ('Jack Kallis', 25534), ('Virat Kohli', 24936)]\n",
    "\n",
    "# Sort the list of tuples based on the second element, that is x[1] (integer value)\n",
    "# using in-built function sorted()\n",
    "# syntax:- sorted(iterable,key,reverse=True/False) \n",
    "\n",
    "sorted_list = sorted(list_1, key=lambda x: x[1])\n",
    "\n",
    "# Print the sorted list\n",
    "for i in sorted_list:\n",
    "    print(i)"
   ]
  },
  {
   "cell_type": "markdown",
   "id": "f7f1e7b7-9901-4ead-8028-38b4dc323398",
   "metadata": {},
   "source": [
    "## Q2. Write a Python Program to find the squares of all the numbers in the given list of integers using lambda and map functions. \n",
    "## [1, 2, 3, 4, 5, 6, 7, 8, 9, 10]"
   ]
  },
  {
   "cell_type": "code",
   "execution_count": 2,
   "id": "beec0778-9958-41a0-9327-a7a2156064fe",
   "metadata": {},
   "outputs": [
    {
     "name": "stdout",
     "output_type": "stream",
     "text": [
      "1\n",
      "4\n",
      "9\n",
      "16\n",
      "25\n",
      "36\n",
      "49\n",
      "64\n",
      "81\n",
      "100\n"
     ]
    }
   ],
   "source": [
    "num=[1, 2, 3, 4, 5, 6, 7, 8, 9, 10]\n",
    "\n",
    "for i in map( lambda x : x*x , num ):\n",
    "    print(i)"
   ]
  },
  {
   "cell_type": "markdown",
   "id": "e8f1d716-51fb-45ff-a96e-6d9b3afc1fc3",
   "metadata": {},
   "source": [
    "## Q3. Write a python program to convert the given list of integers into a tuple of strings. Use map and lambda functions\n",
    "## Given String: [1, 2, 3, 4, 5, 6, 7, 8, 9, 10]\n",
    "## Expected output: ('1', '2', '3', '4', '5', '6', '7', '8', '9', '10')"
   ]
  },
  {
   "cell_type": "code",
   "execution_count": 3,
   "id": "6614cedd-b221-4e7d-8772-c91e82bb27c9",
   "metadata": {},
   "outputs": [
    {
     "name": "stdout",
     "output_type": "stream",
     "text": [
      "('1', '2', '3', '4', '5', '6', '7', '8', '9', '10')\n"
     ]
    }
   ],
   "source": [
    "numbers=[1, 2, 3, 4, 5, 6, 7, 8, 9, 10]\n",
    "\n",
    "tup=tuple(map(lambda x : str(x),numbers))\n",
    "    \n",
    "print(tup)\n",
    "\n",
    "# working\n",
    "# first map function maps the elements of 'numbers' to a string value through lambda function, next, assign these values in tuple 'tup'"
   ]
  },
  {
   "cell_type": "markdown",
   "id": "34958c25-ef95-4337-b21d-d75cc2e433e9",
   "metadata": {},
   "source": [
    "## Q4.  Write a python program using reduce function to compute the product of a list containing numbers from 1 to 25."
   ]
  },
  {
   "cell_type": "code",
   "execution_count": 4,
   "id": "1b8e75cd-3e2c-400b-90d4-786ff239c6c4",
   "metadata": {},
   "outputs": [
    {
     "name": "stdout",
     "output_type": "stream",
     "text": [
      "[1, 2, 3, 4, 5, 6, 7, 8, 9, 10, 11, 12, 13, 14, 15, 16, 17, 18, 19, 20, 21, 22, 23, 24, 25]\n",
      "\n",
      "product of the numbers in the list is:-  15511210043330985984000000\n"
     ]
    }
   ],
   "source": [
    "# declaring a list containing numbers from 1 to 25 \n",
    "list_num=[]\n",
    "for i in range(1,26):\n",
    "    list_num.append(i)\n",
    "\n",
    "print(list_num)\n",
    "\n",
    "from functools import reduce\n",
    "\n",
    "print('\\nproduct of the numbers in the list is:- ', reduce(lambda a,b : a*b, list_num))"
   ]
  },
  {
   "cell_type": "markdown",
   "id": "71d289dd-2c44-483c-b650-63de87389caa",
   "metadata": {},
   "source": [
    "## Q5. Write a python program to filter the numbers in a given list that are divisible by 2 and 3 using the filter function.\n",
    "## [2, 3, 6, 9, 27, 60, 90, 120, 55, 46]"
   ]
  },
  {
   "cell_type": "code",
   "execution_count": 5,
   "id": "488966d2-3075-42e4-ae06-0bd5feb4e381",
   "metadata": {},
   "outputs": [
    {
     "name": "stdout",
     "output_type": "stream",
     "text": [
      "Numbers divisible by 2 and 3 in the given list are:-\n",
      "6 60 90 120 "
     ]
    }
   ],
   "source": [
    "num_list=[2, 3, 6, 9, 27, 60, 90, 120, 55, 46]\n",
    "\n",
    "fil_list=list(filter(lambda x: x%2==0 and x%3==0 , num_list))\n",
    "\n",
    "print('Numbers divisible by 2 and 3 in the given list are:-')\n",
    "for i in fil_list:\n",
    "    print(i,end=' ')"
   ]
  },
  {
   "cell_type": "markdown",
   "id": "938790c9-6b73-41cb-b96c-330634378899",
   "metadata": {},
   "source": [
    "## Q6. Write a python program to find palindromes in the given list of strings using lambda and filter function.\n",
    "## ['python', 'php', 'aba', 'radar', 'level']"
   ]
  },
  {
   "cell_type": "code",
   "execution_count": 6,
   "id": "2d386195-3335-4ace-b949-8ee433d5832b",
   "metadata": {},
   "outputs": [
    {
     "name": "stdout",
     "output_type": "stream",
     "text": [
      "Palindrom words are:-\n",
      "php\n",
      "aba\n",
      "radar\n",
      "level\n"
     ]
    }
   ],
   "source": [
    "list_2=['python', 'php', 'aba', 'radar', 'level']\n",
    "\n",
    "# fun to check pallindromes\n",
    "def palindrome(a):\n",
    "        x=a[::-1]\n",
    "        if a==x:\n",
    "            return True\n",
    "        else:\n",
    "            return False\n",
    "\n",
    "pal_fil=filter(lambda y:palindrome(y),list_2)\n",
    "\n",
    "print('Palindrom words are:-')\n",
    "for i in pal_fil:\n",
    "    print(i)"
   ]
  }
 ],
 "metadata": {
  "kernelspec": {
   "display_name": "Python 3 (ipykernel)",
   "language": "python",
   "name": "python3"
  },
  "language_info": {
   "codemirror_mode": {
    "name": "ipython",
    "version": 3
   },
   "file_extension": ".py",
   "mimetype": "text/x-python",
   "name": "python",
   "nbconvert_exporter": "python",
   "pygments_lexer": "ipython3",
   "version": "3.10.8"
  }
 },
 "nbformat": 4,
 "nbformat_minor": 5
}
