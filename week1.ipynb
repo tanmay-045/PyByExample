{
 "cells": [
  {
   "cell_type": "code",
   "execution_count": 1,
   "id": "4c8544f0-55f4-40e3-8410-141cf3cf7487",
   "metadata": {},
   "outputs": [],
   "source": [
    "\"\"\"\n",
    "Q1. Create one variable containing following type of data:\n",
    "(i)string\n",
    "(ii)list\n",
    "(iii)float\n",
    "(iv)tuple\n",
    "\"\"\"\n",
    "\n",
    "s=\"name\"\n",
    "l=[2,3.141,\"name\"]\n",
    "f=6.282\n",
    "t=(\"pen\",\"pencil\",\"eraser\")"
   ]
  },
  {
   "cell_type": "raw",
   "id": "777209ac-bddd-4fa6-824d-dfc7ff197105",
   "metadata": {},
   "source": [
    "\"\"\"\n",
    "Q2. Given are some following variables containing data:\n",
    "(i)\tvar1 = ‘ ‘\n",
    "(ii)var2 = ‘[ DS , ML , Python]’\n",
    "(iii)var3 = [ ‘DS’ , ’ML’ , ‘Python’ ]\n",
    "(iv)var4 = 1.\n",
    "What will be the data type of the above given variable.\n",
    "\"\"\"\n",
    "\n",
    "\"\"\"\n",
    "Answers\n",
    "(i)str (string)\n",
    "(ii)str (string)\n",
    "(iii)list\n",
    "(iv)int\n",
    "\"\"\""
   ]
  },
  {
   "cell_type": "code",
   "execution_count": 4,
   "id": "7fa7c0e3-8195-4fe3-9fc9-8f702bf56e3b",
   "metadata": {},
   "outputs": [
    {
     "name": "stdout",
     "output_type": "stream",
     "text": [
      "7.333333333333333\n",
      "1\n",
      "7\n",
      "10648\n"
     ]
    }
   ],
   "source": [
    "\"\"\"\n",
    "Q3. Explain the use of the following operators using an example:\n",
    "(i)/\n",
    "(ii)% \n",
    "(iii)//\n",
    "(iv)**\n",
    "\"\"\"\n",
    "\n",
    "a,b=22,3\n",
    "\n",
    "print(a/b)   # '/'  division operator is used to perform division between two numbers.\n",
    "print(a%b)   # \"%'  modulo operator is used to get remainder(integer) when one number divides another number.\n",
    "print(a//b)  # '//' floor divsion operator is used to get rounded off number (nearest to whole) when we perform divion between two numbers.\n",
    "print(a**b)  # \"**' exponential operator is used to return the result of raising the first operand to the power of the second operand.\n"
   ]
  },
  {
   "cell_type": "code",
   "execution_count": 5,
   "id": "d1e572a0-ef02-498d-aefb-e81432e48e6b",
   "metadata": {},
   "outputs": [
    {
     "name": "stdout",
     "output_type": "stream",
     "text": [
      "101\n",
      "<class 'int'>\n",
      "2.34\n",
      "<class 'float'>\n",
      "(3+4j)\n",
      "<class 'complex'>\n",
      "Hello\n",
      "<class 'str'>\n",
      "True\n",
      "<class 'bool'>\n",
      "11\n",
      "<class 'int'>\n",
      "7.0539\n",
      "<class 'float'>\n",
      "8j\n",
      "<class 'complex'>\n",
      "World\n",
      "<class 'str'>\n",
      "False\n",
      "<class 'bool'>\n"
     ]
    }
   ],
   "source": [
    "\"\"\"\n",
    "Q4. Create a list of length 10 of your choice containing multiple types of data. Using for loop print the\n",
    "element and its data type.\n",
    "\"\"\"\n",
    "\n",
    "mylist=[101,2.34,3+4j,\"Hello\",True,6+5,7.0539,8j,\"World\",False]\n",
    "for i in mylist:\n",
    "    print(i)\n",
    "    print(type(i))"
   ]
  },
  {
   "cell_type": "code",
   "execution_count": 2,
   "id": "607bad81-b58d-43d1-9162-88375ad3c4aa",
   "metadata": {},
   "outputs": [
    {
     "name": "stdout",
     "output_type": "stream",
     "text": [
      "Input two numbers to check if it is purely divisble by another or not\n"
     ]
    },
    {
     "name": "stdin",
     "output_type": "stream",
     "text": [
      "a= 56\n",
      "b= 4\n"
     ]
    },
    {
     "name": "stdout",
     "output_type": "stream",
     "text": [
      "56 is purely divisible by 4 , 14 times.\n"
     ]
    }
   ],
   "source": [
    "\"\"\"\n",
    "Q5. Using a while loop, verify if the number A is purely divisible by number B and if so then how many\n",
    "times it can be divisible.\n",
    "\"\"\"\n",
    "print(\"Input two numbers to check if it is purely divisble by another or not\")\n",
    "a=int(input(\"a=\"))\n",
    "b=int(input(\"b=\"))\n",
    "i=0\n",
    "while i<1:\n",
    "    i+=1\n",
    "    if a%b==0:\n",
    "        c=int(a/b)\n",
    "        print(a,\"is purely divisible by\",b,\",\",c,\"times.\")\n",
    "    else:\n",
    "        print(a,\"is not purely divisble by\",b)\n",
    "    "
   ]
  },
  {
   "cell_type": "code",
   "execution_count": 4,
   "id": "b80ca485-f855-4c21-b352-56228d18c085",
   "metadata": {
    "tags": []
   },
   "outputs": [
    {
     "name": "stdout",
     "output_type": "stream",
     "text": [
      "45\n",
      "45 is divible by 3\n",
      "87\n",
      "87 is divible by 3\n",
      "76\n",
      "76 is not divible by 3\n",
      "13\n",
      "13 is not divible by 3\n",
      "568\n",
      "568 is not divible by 3\n",
      "437\n",
      "437 is not divible by 3\n",
      "907\n",
      "907 is not divible by 3\n",
      "56\n",
      "56 is not divible by 3\n",
      "39\n",
      "39 is divible by 3\n",
      "98\n",
      "98 is not divible by 3\n",
      "702\n",
      "702 is divible by 3\n",
      "453\n",
      "453 is divible by 3\n",
      "590\n",
      "590 is not divible by 3\n",
      "721\n",
      "721 is not divible by 3\n",
      "777\n",
      "777 is divible by 3\n",
      "547\n",
      "547 is not divible by 3\n",
      "886\n",
      "886 is not divible by 3\n",
      "45\n",
      "45 is divible by 3\n",
      "912\n",
      "912 is divible by 3\n",
      "423\n",
      "423 is divible by 3\n",
      "109\n",
      "109 is not divible by 3\n",
      "854\n",
      "854 is not divible by 3\n",
      "956\n",
      "956 is not divible by 3\n",
      "654\n",
      "654 is divible by 3\n",
      "234\n",
      "234 is divible by 3\n"
     ]
    }
   ],
   "source": [
    "\"\"\"\n",
    "Q6. Create a list containing 25 int type data. Using for loop and if-else condition print if the element is\n",
    "divisible by 3 or not.\n",
    "\"\"\"\n",
    "newlist=[45,87,76,13,568,437,907,56,39,98,702,453,590,721,777,547,886,45,912,423,109,854,956,654,234]\n",
    "\n",
    "for i in newlist:\n",
    "    print(i)\n",
    "    if i%3==0:\n",
    "        print(i,\"is divible by 3\")\n",
    "    else:\n",
    "        print(i,\"is not divible by 3\")"
   ]
  },
  {
   "cell_type": "code",
   "execution_count": 7,
   "id": "90ec6cd1-23ff-4757-8f00-6e87f6ac3fbb",
   "metadata": {},
   "outputs": [
    {
     "name": "stdout",
     "output_type": "stream",
     "text": [
      "[35, 'Hello', 3.141]\n",
      "[35, 'World', 3.141]\n",
      "Goddins\n",
      "G\n",
      "o\n",
      "d\n",
      "d\n",
      "i\n",
      "n\n",
      "s\n"
     ]
    }
   ],
   "source": [
    "\"\"\"\n",
    "Q7. What do you understand about mutable and immutable data types? Give examples for both showing\n",
    "this property.\n",
    "\"\"\"\n",
    "# Mutable objects are objects which can be modified after creation. 'List' is a type of mutable object.\n",
    "mylist=[35,\"Hello\",3.141]\n",
    "print(mylist)\n",
    "mylist[1]=\"World\" # modification/change in value\n",
    "print(mylist)\n",
    "\n",
    "# Immutable objects are objects which cannot be modified once created. \"String\" is a type of immutable object.\n",
    "name=\"Goddins\"\n",
    "print(name)\n",
    "for i in name:\n",
    "    print(i)    # but \"name\" cannot be modified.\n",
    "                # the code statement 'name[2]=e' gonna result in error ''str' object does not support item assignment'."
   ]
  },
  {
   "cell_type": "code",
   "execution_count": null,
   "id": "fa9da295-1ded-42a3-9131-027ed0c6ae95",
   "metadata": {},
   "outputs": [],
   "source": []
  }
 ],
 "metadata": {
  "kernelspec": {
   "display_name": "Python 3 (ipykernel)",
   "language": "python",
   "name": "python3"
  },
  "language_info": {
   "codemirror_mode": {
    "name": "ipython",
    "version": 3
   },
   "file_extension": ".py",
   "mimetype": "text/x-python",
   "name": "python",
   "nbconvert_exporter": "python",
   "pygments_lexer": "ipython3",
   "version": "3.10.8"
  }
 },
 "nbformat": 4,
 "nbformat_minor": 5
}
