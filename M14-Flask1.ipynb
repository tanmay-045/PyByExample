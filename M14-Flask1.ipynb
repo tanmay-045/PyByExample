{
 "cells": [
  {
   "cell_type": "markdown",
   "id": "3ccc8fd8-b827-4e1e-9e36-969821f594cb",
   "metadata": {},
   "source": [
    "### Q1. What is Flask Framework? What are the advantages of Flask Framework?\n",
    "\n",
    "Flask is a micro web framework written in Python. It is designed to make getting started quick and easy, with the ability to scale up to complex applications. Flask is lightweight and modular, which makes it adaptable for developers' needs and preferences. It provides the essential components to build a web application, such as routing, templates, and handling HTTP requests, but does not enforce a particular project structure or require the use of specific tools or libraries.\n",
    "\n",
    "### Advantages of Flask Framework\n",
    "\n",
    "1. **Lightweight and Flexible**:\n",
    "   - **Minimalistic Core**: Flask comes with a small core and allows developers to add only the components they need. This makes it very lightweight and efficient.\n",
    "   - **Extensible**: You can add extensions to Flask to integrate with different libraries and tools. If you need more features, you can add them as extensions.\n",
    "\n",
    "2. **Simple and Easy to Learn**:\n",
    "   - **Beginner-Friendly**: Flask is straightforward, making it an excellent choice for beginners. The framework’s simplicity and clear documentation help new developers get started quickly.\n",
    "   - **Pythonic**: Flask uses standard Python conventions and idioms, making it easy for Python developers to understand and use.\n",
    "\n",
    "3. **Modular Design**:\n",
    "   - **Blueprints**: Flask's blueprint feature allows you to split your application into multiple modules, making it easier to manage and scale.\n",
    "   - **Jinja2 Templates**: Flask uses Jinja2 for templating, which is powerful and easy to use for generating HTML from templates.\n",
    "\n",
    "4. **Wide Adoption and Community Support**:\n",
    "   - **Large Community**: Flask has a large and active community, which means you can find plenty of resources, tutorials, and third-party libraries to help you.\n",
    "   - **Continuous Development**: The framework is well-maintained and continuously updated with new features and security patches.\n",
    "\n",
    "5. **Flexible for Different Use Cases**:\n",
    "   - **Prototyping to Production**: Flask is suitable for both simple prototypes and complex, production-ready applications.\n",
    "   - **API Development**: Flask is great for building RESTful APIs due to its simple routing mechanism and lightweight nature.\n",
    "\n",
    "6. **Testing and Debugging**:\n",
    "   - **Built-in Development Server**: Flask includes a built-in development server with an interactive debugger and a reloader, which simplifies development and debugging.\n",
    "   - **Unit Testing Support**: Flask is designed to be testable, allowing you to easily create unit tests for your application.\n",
    " \n",
    "### Use Cases of Flask\n",
    "\n",
    "- **Web Applications**: Building simple to complex web applications.\n",
    "- **APIs**: Creating RESTful APIs and microservices.\n",
    "- **Prototyping**: Quickly prototyping ideas and testing concepts.\n",
    "- **Microservices**: Developing microservices due to its lightweight nature.\n",
    " "
   ]
  },
  {
   "cell_type": "markdown",
   "id": "230b8a93-d6c6-4df9-af12-f34a829cc085",
   "metadata": {},
   "source": [
    "### Q2. Create a simple Flask application to display ‘Hello World!!’. Attach the screenshot of the output in Jupyter Notebook."
   ]
  },
  {
   "cell_type": "code",
   "execution_count": 3,
   "id": "f16cca3b-6070-4523-b699-684d8a9dc935",
   "metadata": {},
   "outputs": [
    {
     "data": {
      "text/html": [
       "<img src=\"HelloWORLD.png\"/>"
      ],
      "text/plain": [
       "<IPython.core.display.Image object>"
      ]
     },
     "execution_count": 3,
     "metadata": {},
     "output_type": "execute_result"
    }
   ],
   "source": [
    "# import image module \n",
    "from IPython.display import Image \n",
    "\n",
    "# get the image \n",
    "Image(url=\"HelloWORLD.png\")"
   ]
  },
  {
   "cell_type": "markdown",
   "id": "19432357-d9e8-430c-b9e6-46d9cae35280",
   "metadata": {},
   "source": [
    "### Q3. What is App routing in Flask? Why do we use app routes?\n",
    "\n",
    "App routing in Flask refers to the process of defining URL patterns for our web application. It allows us to map URLs (web addresses) to specific functions in your Flask application. This way, when a user visits a particular URL, the corresponding function is executed and the appropriate response is sent back to the user.\n",
    "<br>\n",
    "In Flask, app routing is achieved using the @app.route decorator. This decorator is used to bind a URL to a function.<br>\n",
    "\n",
    "### Why Do We Use App Routes?\n",
    "<br><br>\n",
    "URL Mapping:<br>\n",
    "App routing allows you to define clear and intuitive URL patterns for your web application, making it easier for users to navigate and for developers to manage the routes.\n",
    "<br><br>\n",
    "Separation of Concerns:<br>\n",
    "By mapping URLs to specific functions, you can separate the logic of your application into distinct functions. This helps in organizing your code and makes it more maintainable.\n",
    "<br><br>\n",
    "Dynamic Content:<br>\n",
    "App routes can handle dynamic content. For instance, we can create routes that accept parameters, allowing us to build more interactive and responsive web applications.\n",
    "<br><br>\n",
    "RESTful APIs:<br>\n",
    "App routing is essential for building RESTful APIs, where different URLs represent different resources or actions.\n",
    "<br><br>\n",
    "Handling HTTP Methods:<br>\n",
    "We can specify which HTTP methods (GET, POST, PUT, DELETE, etc.) a route should handle. This is crucial for creating RESTful services.\n",
    "<br><br>\n",
    "Modularity and Reusability:<br>\n",
    "Using routes, we can break our application into modular parts. Each part can be developed and tested independently, enhancing reusability and readability.\n",
    "<br><br>\n",
    "Custom Error Pages:<br>\n",
    "We can define custom routes to handle errors, such as 404 (Not Found) or 500 (Internal Server Error).\n",
    "<br>"
   ]
  },
  {
   "cell_type": "markdown",
   "id": "24ca6c4a-b98a-480e-873a-62d99ac0eb28",
   "metadata": {},
   "source": [
    "### Q4. Create a “/welcome” route to display the welcome message “Welcome to ABC Corporation” and a “/” route to show the following details:\n",
    "***Company Name: ABC Corporation<br>\n",
    "Location: India<br>\n",
    "Contact Detail: 999-999-9999***"
   ]
  },
  {
   "cell_type": "code",
   "execution_count": 7,
   "id": "cb8d0148-c77a-48fc-8ae0-af9c6c98a182",
   "metadata": {},
   "outputs": [
    {
     "data": {
      "text/html": [
       "<img src=\"details.png\"/>"
      ],
      "text/plain": [
       "<IPython.core.display.Image object>"
      ]
     },
     "execution_count": 7,
     "metadata": {},
     "output_type": "execute_result"
    }
   ],
   "source": [
    " from IPython.display import Image \n",
    "Image(url=\"details.png\")"
   ]
  },
  {
   "cell_type": "code",
   "execution_count": 8,
   "id": "04aeb5ba-b917-42b8-83e1-faca71e3f782",
   "metadata": {},
   "outputs": [
    {
     "data": {
      "text/html": [
       "<img src=\"welcome.png\"/>"
      ],
      "text/plain": [
       "<IPython.core.display.Image object>"
      ]
     },
     "execution_count": 8,
     "metadata": {},
     "output_type": "execute_result"
    }
   ],
   "source": [
    " from IPython.display import Image \n",
    "Image(url=\"welcome.png\")"
   ]
  },
  {
   "cell_type": "markdown",
   "id": "438ec359-5767-427f-8967-e47cde39c0b0",
   "metadata": {},
   "source": [
    "### Q5. What function is used in Flask for URL Building? Write a Python code to demonstrate the working of the url_for() function.\n",
    "In Flask, the url_for() function is used for URL building. This function is useful for generating URLs dynamically based on the name of a view function and the arguments provided. It ensures that the URLs are constructed correctly, even if the application’s routing changes. Using url_for(), we can avoid hardcoding URLs in our templates and views, making our application more maintainable and flexible.\n",
    "<br><br>\n",
    "Syntax of url_for()<br>\n",
    "url_for(endpoint, **values)\n",
    "<br>endpoint: The name of the view function for which you want to generate a URL.\n",
    "<br>values: Any arguments required by the view function, passed as keyword arguments."
   ]
  },
  {
   "cell_type": "code",
   "execution_count": null,
   "id": "a731d9d1-c2e0-45c9-8c3f-81ff493130fd",
   "metadata": {},
   "outputs": [],
   "source": [
    "from flask import Flask, url_for, redirect\n",
    "\n",
    "app = Flask(__name__)\n",
    "\n",
    "@app.route('/')\n",
    "def home():\n",
    "    # Generate URL for 'about' view\n",
    "    about_url = url_for('about')\n",
    "    return f'Welcome to the Home Page. Go to <a href=\"{about_url}\">About Page</a>'\n",
    "\n",
    "@app.route('/about')\n",
    "def about():\n",
    "    return 'This is the About Page'\n",
    "\n",
    "@app.route('/user/<username>')\n",
    "def show_user_profile(username):\n",
    "    return f'User: {username}'\n",
    "\n",
    "@app.route('/redirect-to-user/<username>')\n",
    "def redirect_to_user(username):\n",
    "    # Generate URL for 'show_user_profile' view with username argument\n",
    "    user_url = url_for('show_user_profile', username=username)\n",
    "    return redirect(user_url)\n",
    "\n",
    "if __name__ == '__main__':\n",
    "    app.run(debug=True)"
   ]
  },
  {
   "cell_type": "code",
   "execution_count": null,
   "id": "2234bd69-1a52-4da3-8a59-bb920757db3f",
   "metadata": {},
   "outputs": [],
   "source": []
  }
 ],
 "metadata": {
  "kernelspec": {
   "display_name": "Python 3 (ipykernel)",
   "language": "python",
   "name": "python3"
  },
  "language_info": {
   "codemirror_mode": {
    "name": "ipython",
    "version": 3
   },
   "file_extension": ".py",
   "mimetype": "text/x-python",
   "name": "python",
   "nbconvert_exporter": "python",
   "pygments_lexer": "ipython3",
   "version": "3.10.8"
  }
 },
 "nbformat": 4,
 "nbformat_minor": 5
}
