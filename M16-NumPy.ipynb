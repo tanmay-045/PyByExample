{
 "cells": [
  {
   "cell_type": "code",
   "execution_count": 1,
   "id": "f0f55cc1-dd8a-4e0e-aeba-1965eb39781b",
   "metadata": {},
   "outputs": [],
   "source": [
    "# Consider the below code to answer further questions:\n",
    "import numpy as np\n",
    "list_ = [ '1' , '2' , '3' , '4' , '5' ]\n",
    "array_list = np.array(object = list_)"
   ]
  },
  {
   "cell_type": "markdown",
   "id": "66b16658-cffc-4d90-afd1-12e71f5d9d11",
   "metadata": {},
   "source": [
    "### Q1. Is there any difference in the data type of variables list_ and array_list? If there is then write a code to print the data types of both the variables.\n",
    "\n",
    "Yes<br>\n",
    "The variable list_ is a Python list, while array_list is a NumPy array. <br>"
   ]
  },
  {
   "cell_type": "code",
   "execution_count": 2,
   "id": "41f48a97-2181-4c06-8f53-1a8b08fb5d97",
   "metadata": {},
   "outputs": [
    {
     "name": "stdout",
     "output_type": "stream",
     "text": [
      "Data type of list_: <class 'list'>\n",
      "Data type of array_list: <class 'numpy.ndarray'>\n"
     ]
    }
   ],
   "source": [
    "# Printing the data types\n",
    "print(\"Data type of list_:\", type(list_))\n",
    "print(\"Data type of array_list:\", type(array_list))"
   ]
  },
  {
   "cell_type": "markdown",
   "id": "1e85ff16-19ae-4120-8522-6857d39f32f1",
   "metadata": {},
   "source": [
    "### Q2. Write a code to print the data type of each and every element of both the variables list_ and array_list."
   ]
  },
  {
   "cell_type": "code",
   "execution_count": 9,
   "id": "efb22ff5-c84f-44f5-acc2-bceb01e3c6f6",
   "metadata": {},
   "outputs": [
    {
     "name": "stdout",
     "output_type": "stream",
     "text": [
      "Data type of list_ element 1 :  <class 'str'>\n",
      "Data type of list_ element 2 :  <class 'str'>\n",
      "Data type of list_ element 3 :  <class 'str'>\n",
      "Data type of list_ element 4 :  <class 'str'>\n",
      "Data type of list_ element 5 :  <class 'str'>\n"
     ]
    }
   ],
   "source": [
    "for i in list_ :\n",
    "    print(f\"Data type of list_ element {i} : \",type(i))"
   ]
  },
  {
   "cell_type": "code",
   "execution_count": 11,
   "id": "d38ac44f-4c13-40ca-826d-d0f895df19fa",
   "metadata": {},
   "outputs": [
    {
     "name": "stdout",
     "output_type": "stream",
     "text": [
      "Data type of arra_list 1 :  <class 'numpy.str_'>\n",
      "Data type of arra_list 2 :  <class 'numpy.str_'>\n",
      "Data type of arra_list 3 :  <class 'numpy.str_'>\n",
      "Data type of arra_list 4 :  <class 'numpy.str_'>\n",
      "Data type of arra_list 5 :  <class 'numpy.str_'>\n"
     ]
    }
   ],
   "source": [
    "for j in array_list:\n",
    "    print(f\"Data type of arra_list {j} : \",type(j))"
   ]
  },
  {
   "cell_type": "markdown",
   "id": "628a6314-5509-43b2-af5d-01e02534f920",
   "metadata": {},
   "source": [
    "### Q3. Considering the following changes in the variable, array_list:\n",
    "<br>\n",
    "array_list = np.array(object = list_, dtype = int)\n",
    "<br>\n",
    "\n",
    "### Will there be any difference in the data type of the elements present in both the variables, list_ and arra_list? If so then print the data types of each and every element present in both the variables, list_ and arra_list.\n",
    "\n",
    "<br><br>\n",
    "Yes, there will be a difference in the data type of the elements present in both the variables list_ and array_list. After the change, the elements in list_ will remain strings, while the elements in array_list will be converted to integers."
   ]
  },
  {
   "cell_type": "code",
   "execution_count": 13,
   "id": "4d7c4a08-f0e0-4c16-a14d-923b2f70c770",
   "metadata": {},
   "outputs": [],
   "source": [
    "array_list = np.array(object = list_, dtype = int)"
   ]
  },
  {
   "cell_type": "code",
   "execution_count": 16,
   "id": "e21a502d-9b0b-40a3-bc7f-1d91bfd69bc7",
   "metadata": {},
   "outputs": [
    {
     "name": "stdout",
     "output_type": "stream",
     "text": [
      "Data type of list_ element 1 :  <class 'str'>\n",
      "Data type of list_ element 2 :  <class 'str'>\n",
      "Data type of list_ element 3 :  <class 'str'>\n",
      "Data type of list_ element 4 :  <class 'str'>\n",
      "Data type of list_ element 5 :  <class 'str'>\n",
      "Data type of arra_list 1 :  <class 'numpy.int64'>\n",
      "Data type of arra_list 2 :  <class 'numpy.int64'>\n",
      "Data type of arra_list 3 :  <class 'numpy.int64'>\n",
      "Data type of arra_list 4 :  <class 'numpy.int64'>\n",
      "Data type of arra_list 5 :  <class 'numpy.int64'>\n"
     ]
    }
   ],
   "source": [
    "for i in list_ :\n",
    "    print(f\"Data type of list_ element {i} : \",type(i))\n",
    "    \n",
    "for j in array_list:\n",
    "    print(f\"Data type of arra_list {j} : \",type(j))"
   ]
  },
  {
   "cell_type": "markdown",
   "id": "733c1721-6719-4b2e-af96-da69f4718926",
   "metadata": {},
   "source": [
    "### Consider the below code to answer further questions:"
   ]
  },
  {
   "cell_type": "code",
   "execution_count": 18,
   "id": "fd4a9070-13a6-41a1-bfae-8e0d6626cf9b",
   "metadata": {},
   "outputs": [],
   "source": [
    "import numpy as np\n",
    "num_list = [ [ 1 , 2 , 3 ] , [ 4 , 5 , 6 ] ]\n",
    "num_array = np.array(object = num_list)"
   ]
  },
  {
   "cell_type": "markdown",
   "id": "cfd7d9f3-3020-4ec8-b067-9ab70da8f6b8",
   "metadata": {},
   "source": [
    "### Q4. Write a code to find the following characteristics of variable, num_array:\n",
    "#### (i) shape\n",
    "#### (ii) size"
   ]
  },
  {
   "cell_type": "code",
   "execution_count": 21,
   "id": "3991b12e-fb1e-43ed-930f-453648545b0e",
   "metadata": {},
   "outputs": [
    {
     "name": "stdout",
     "output_type": "stream",
     "text": [
      "Shape of variable num_array :  (2, 3)\n"
     ]
    }
   ],
   "source": [
    "print(\"Shape of variable num_array : \",num_array.shape)"
   ]
  },
  {
   "cell_type": "code",
   "execution_count": 22,
   "id": "d7e8c951-1d93-4a1b-860e-37d68d145db6",
   "metadata": {},
   "outputs": [
    {
     "name": "stdout",
     "output_type": "stream",
     "text": [
      "Size of variable num_array :  6\n"
     ]
    }
   ],
   "source": [
    "print(\"Size of variable num_array : \",num_array.size)"
   ]
  },
  {
   "cell_type": "markdown",
   "id": "36ccb394-a66e-4230-8995-b844dcefd87b",
   "metadata": {},
   "source": [
    "### Q5. Write a code to create numpy array of 3*3 matrix containing zeros only, using a numpy array creation function.\n",
    "\n",
    "we use ' numpy.zeros() ' function to create a matriz with zero entries."
   ]
  },
  {
   "cell_type": "code",
   "execution_count": 25,
   "id": "0b1a5052-5a0b-400a-8702-9a9715f85f5d",
   "metadata": {},
   "outputs": [],
   "source": [
    "arr_0=np.zeros((3,3))"
   ]
  },
  {
   "cell_type": "code",
   "execution_count": 26,
   "id": "7f67c245-83c7-4e46-9c6c-dbd5bd437802",
   "metadata": {},
   "outputs": [
    {
     "data": {
      "text/plain": [
       "array([[0., 0., 0.],\n",
       "       [0., 0., 0.],\n",
       "       [0., 0., 0.]])"
      ]
     },
     "execution_count": 26,
     "metadata": {},
     "output_type": "execute_result"
    }
   ],
   "source": [
    "arr_0"
   ]
  },
  {
   "cell_type": "markdown",
   "id": "7ee91a1c-2dfb-40da-a351-fe45ea2e3d94",
   "metadata": {},
   "source": [
    "### Q6. Create an identity matrix of shape (5,5) using numpy functions\n",
    "\n",
    "we use ' numpy.eye() ' function to create an identity matrix."
   ]
  },
  {
   "cell_type": "code",
   "execution_count": 28,
   "id": "406bed34-6c42-456c-8d7b-a2f20b3b5b8f",
   "metadata": {},
   "outputs": [],
   "source": [
    "arr_1=np.eye(5)"
   ]
  },
  {
   "cell_type": "code",
   "execution_count": 29,
   "id": "9712e9fa-4167-4d67-babc-d61f5f059897",
   "metadata": {},
   "outputs": [
    {
     "data": {
      "text/plain": [
       "array([[1., 0., 0., 0., 0.],\n",
       "       [0., 1., 0., 0., 0.],\n",
       "       [0., 0., 1., 0., 0.],\n",
       "       [0., 0., 0., 1., 0.],\n",
       "       [0., 0., 0., 0., 1.]])"
      ]
     },
     "execution_count": 29,
     "metadata": {},
     "output_type": "execute_result"
    }
   ],
   "source": [
    "arr_1"
   ]
  }
 ],
 "metadata": {
  "kernelspec": {
   "display_name": "Python 3 (ipykernel)",
   "language": "python",
   "name": "python3"
  },
  "language_info": {
   "codemirror_mode": {
    "name": "ipython",
    "version": 3
   },
   "file_extension": ".py",
   "mimetype": "text/x-python",
   "name": "python",
   "nbconvert_exporter": "python",
   "pygments_lexer": "ipython3",
   "version": "3.10.8"
  }
 },
 "nbformat": 4,
 "nbformat_minor": 5
}
