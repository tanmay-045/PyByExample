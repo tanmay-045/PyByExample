{
 "cells": [
  {
   "cell_type": "markdown",
   "id": "5c5ecb5f-407e-42be-b29b-1eb6754f1ff0",
   "metadata": {},
   "source": [
    "## Q1. Explain Class and Object with respect to Object-Oriented Programming. Give a suitable example.\n",
    "\n",
    "### In object-oriented programming (OOP), a class is a blueprint or template that defines the properties and behaviors of objects. An object is an instance of a class. A class is a logical entity. An object is a physical entity.\n",
    "\n",
    "### Consider the example of a class named 'Car' which can have the properites like 'engine', 'model', 'price', etc. which is a genral blueprint for the cars. An object possess all these properties. For example the object named 'fortuner' will have properties like engine-Petrol, model-toyota Fortuner, Price-50Lakhs."
   ]
  },
  {
   "cell_type": "code",
   "execution_count": 1,
   "id": "451ee729-2181-4ccf-8ae1-74e4bd7aa48c",
   "metadata": {},
   "outputs": [],
   "source": [
    "# example\n",
    "# 'car' class declaration\n",
    "class car:\n",
    "    def __init__(self,engine,model,price):\n",
    "        self.engine=engine\n",
    "        self.model=model\n",
    "        self.price=price\n",
    "        \n",
    "    def car_engine(self):\n",
    "        print('Engine Type : {}'.format(self.engine))\n",
    "        \n",
    "    def car_model(self):\n",
    "        print('Car Model : {}'.format(self.model))\n",
    "        \n",
    "    def car_price(self):\n",
    "        print('Car Price : {}'.format(self.price))\n",
    "        \n",
    "    def all_details(self):\n",
    "        self.car_engine()\n",
    "        self.car_model()\n",
    "        self.car_price()"
   ]
  },
  {
   "cell_type": "code",
   "execution_count": 2,
   "id": "82ca0516-34f4-4351-aaed-b8127dcc1d22",
   "metadata": {},
   "outputs": [],
   "source": [
    "# object creation, named fortuner\n",
    "fortuner= car('Petrol','Toyota Fortuner','50 Lakhs')"
   ]
  },
  {
   "cell_type": "code",
   "execution_count": 3,
   "id": "2aa79613-4bb1-429d-be6a-3cea920b0e0c",
   "metadata": {},
   "outputs": [
    {
     "name": "stdout",
     "output_type": "stream",
     "text": [
      "Car Model : Toyota Fortuner\n"
     ]
    }
   ],
   "source": [
    "fortuner.car_model()"
   ]
  },
  {
   "cell_type": "code",
   "execution_count": 4,
   "id": "e9146381-af04-4d8e-ba88-b6156786e886",
   "metadata": {},
   "outputs": [
    {
     "name": "stdout",
     "output_type": "stream",
     "text": [
      "Car Price : 50 Lakhs\n"
     ]
    }
   ],
   "source": [
    "fortuner.car_price()"
   ]
  },
  {
   "cell_type": "code",
   "execution_count": 5,
   "id": "6b18060c-753a-42a0-bc6c-68cb45580565",
   "metadata": {},
   "outputs": [
    {
     "name": "stdout",
     "output_type": "stream",
     "text": [
      "Engine Type : Petrol\n",
      "Car Model : Toyota Fortuner\n",
      "Car Price : 50 Lakhs\n"
     ]
    }
   ],
   "source": [
    "fortuner.all_details()"
   ]
  },
  {
   "cell_type": "markdown",
   "id": "69153890-8198-47c4-bf92-e75365b9e8de",
   "metadata": {},
   "source": [
    "## Q2. Name the four pillars of OOPs.\n",
    "\n",
    "### 1.Encapsulation: Bundling data and methods into a class for controlled access.\n",
    "### 2.Inheritance: Allows a class to inherit properties from another class.\n",
    "### 3.Polymorphism: Enables objects of different classes to be treated interchangeably.\n",
    "### 4.Abstraction: Simplifies complex reality by modeling essential details."
   ]
  },
  {
   "cell_type": "markdown",
   "id": "12936fcb-d6e1-4eff-a067-88a992f531c8",
   "metadata": {},
   "source": [
    "## Q3. Explain why the __init__() function is used. Give a suitable example.\n",
    "\n",
    "### __init__ function is used to assign data to class variable(s) at the time of object instantiation. It is called constructor."
   ]
  },
  {
   "cell_type": "code",
   "execution_count": 6,
   "id": "6ffa2692-ba1d-45a3-896f-108a73916924",
   "metadata": {},
   "outputs": [],
   "source": [
    "# example\n",
    "class jest:\n",
    "    def __init__(self,jet,price):\n",
    "        self.jet=jet\n",
    "        self.price=price\n",
    "        \n",
    "    def details(self):\n",
    "        print('Jet Model : {}\\nPrice (Crs) : {}'.format(self.jet,self.price))"
   ]
  },
  {
   "cell_type": "code",
   "execution_count": 7,
   "id": "f3fc0aa3-8907-41f2-8b91-da053a4c2a8d",
   "metadata": {},
   "outputs": [],
   "source": [
    "# now the class variables 'jet' & 'price' will be assigned the initial values at the time of object instantiation.\n",
    "obj=jest('Embraer Legacy 650E',190)"
   ]
  },
  {
   "cell_type": "code",
   "execution_count": 8,
   "id": "bbafcf4b-1521-481c-8dc0-f35fb88c521a",
   "metadata": {},
   "outputs": [
    {
     "name": "stdout",
     "output_type": "stream",
     "text": [
      "Jet Model : Embraer Legacy 650E\n",
      "Price (Crs) : 190\n"
     ]
    }
   ],
   "source": [
    "obj.details()"
   ]
  },
  {
   "cell_type": "markdown",
   "id": "494daab3-2e93-4348-8e34-650548952685",
   "metadata": {},
   "source": [
    "## Q4. Why self is used in OOPs?\n",
    "\n",
    "### The self keyword is used in OOPs in Python to refer to the instance of a class. This allows you to access the attributes and methods of the class from within the class itself. It helps to distinguish between instance attributes and local variables. It makes it easier to write code that is more modular and reusable. It makes it easier to debug code. It helps to improve the readability of code."
   ]
  },
  {
   "cell_type": "markdown",
   "id": "25fb6c93-caab-448f-9123-a804736b91cb",
   "metadata": {},
   "source": [
    "## Q5. What is inheritance? Give an example for each type of inheritance.\n",
    "\n",
    "### Inheritance is the capability of one class to derive or inherit the properties from one class to another class.\n",
    "### Below are the examples given for each type of inheritance."
   ]
  },
  {
   "cell_type": "code",
   "execution_count": 9,
   "id": "e559e2df-aec3-4ca8-9f55-9e3d1aeef520",
   "metadata": {},
   "outputs": [],
   "source": [
    "# Multilevel Inheritance\n",
    "\n",
    "\n",
    "class natural_no: #parent class\n",
    "    def nat_fun(self):\n",
    "        print('Natural Number are 1,2,3,4,5...')\n",
    "        \n",
    "class whole_no(natural_no): #base class\n",
    "    def who_fun(self):\n",
    "        print('Whole Numbers are 0,1,2,3,4... ')\n",
    "        \n",
    "class integers(whole_no):\n",
    "    def int_fun(self):\n",
    "        print('Intergers are ...-4,-3,-2,-1,0,1,2,3,4,5...')"
   ]
  },
  {
   "cell_type": "code",
   "execution_count": 10,
   "id": "06956720-814a-4988-b595-d0683911eb3c",
   "metadata": {},
   "outputs": [],
   "source": [
    "int_obj=integers()"
   ]
  },
  {
   "cell_type": "code",
   "execution_count": 11,
   "id": "cf30d324-ebb4-48a6-8ae4-cc9e1c0fb03e",
   "metadata": {},
   "outputs": [
    {
     "name": "stdout",
     "output_type": "stream",
     "text": [
      "Natural Number are 1,2,3,4,5...\n"
     ]
    }
   ],
   "source": [
    "# observe we can access methods/functions from parent classes through the instance/object of base class.\n",
    "int_obj.nat_fun()"
   ]
  },
  {
   "cell_type": "code",
   "execution_count": 12,
   "id": "23400b30-f28d-422b-9719-297fa3a98c53",
   "metadata": {},
   "outputs": [
    {
     "name": "stdout",
     "output_type": "stream",
     "text": [
      "Whole Numbers are 0,1,2,3,4... \n"
     ]
    }
   ],
   "source": [
    "int_obj.who_fun()"
   ]
  },
  {
   "cell_type": "code",
   "execution_count": 13,
   "id": "ad113222-bbd0-43c9-8b26-61d576510ec2",
   "metadata": {},
   "outputs": [
    {
     "name": "stdout",
     "output_type": "stream",
     "text": [
      "Intergers are ...-4,-3,-2,-1,0,1,2,3,4,5...\n"
     ]
    }
   ],
   "source": [
    "int_obj.int_fun()"
   ]
  },
  {
   "cell_type": "code",
   "execution_count": 14,
   "id": "eaf2acd2-7195-4121-a7a2-f830a3ed0aab",
   "metadata": {},
   "outputs": [],
   "source": [
    "# Multiple Inheritance\n",
    "\n",
    "class rational_no(integers,whole_no,natural_no):\n",
    "    def rat_fun(self):\n",
    "        print('Rational numbers are in the form of a/b, where a,b are integers and b!=0')"
   ]
  },
  {
   "cell_type": "code",
   "execution_count": 15,
   "id": "081a3f30-20c3-4b0a-9884-c2f4061a2a59",
   "metadata": {},
   "outputs": [],
   "source": [
    "rat_obj=rational_no()"
   ]
  },
  {
   "cell_type": "code",
   "execution_count": 16,
   "id": "511ba77e-7c1e-48cd-bb70-c5c4bcfc25ea",
   "metadata": {},
   "outputs": [
    {
     "name": "stdout",
     "output_type": "stream",
     "text": [
      "Natural Number are 1,2,3,4,5...\n"
     ]
    }
   ],
   "source": [
    "rat_obj.nat_fun()"
   ]
  },
  {
   "cell_type": "code",
   "execution_count": 17,
   "id": "de689268-d6b8-4523-861f-fbbfec99d115",
   "metadata": {},
   "outputs": [
    {
     "name": "stdout",
     "output_type": "stream",
     "text": [
      "Whole Numbers are 0,1,2,3,4... \n"
     ]
    }
   ],
   "source": [
    "rat_obj.who_fun()"
   ]
  },
  {
   "cell_type": "code",
   "execution_count": 18,
   "id": "187ff706-7828-4414-ba0a-5366dd50f0ec",
   "metadata": {},
   "outputs": [
    {
     "name": "stdout",
     "output_type": "stream",
     "text": [
      "Intergers are ...-4,-3,-2,-1,0,1,2,3,4,5...\n"
     ]
    }
   ],
   "source": [
    "rat_obj.int_fun()"
   ]
  },
  {
   "cell_type": "code",
   "execution_count": 19,
   "id": "afe665f2-402c-4276-951e-ea8212726766",
   "metadata": {},
   "outputs": [
    {
     "name": "stdout",
     "output_type": "stream",
     "text": [
      "Rational numbers are in the form of a/b, where a,b are integers and b!=0\n"
     ]
    }
   ],
   "source": [
    "rat_obj.rat_fun()"
   ]
  }
 ],
 "metadata": {
  "kernelspec": {
   "display_name": "Python 3 (ipykernel)",
   "language": "python",
   "name": "python3"
  },
  "language_info": {
   "codemirror_mode": {
    "name": "ipython",
    "version": 3
   },
   "file_extension": ".py",
   "mimetype": "text/x-python",
   "name": "python",
   "nbconvert_exporter": "python",
   "pygments_lexer": "ipython3",
   "version": "3.10.8"
  }
 },
 "nbformat": 4,
 "nbformat_minor": 5
}
