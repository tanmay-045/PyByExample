{
 "cells": [
  {
   "cell_type": "markdown",
   "id": "a73f7ab7-77e9-4e1b-9ac8-e963b77ff2ea",
   "metadata": {},
   "source": [
    "### Q1. Explain GET and POST methods.\n",
    "\n",
    "In the context of web development, GET and POST are two of the most commonly used HTTP methods. They define how data is sent to the server and what actions should be performed.\n",
    "\n",
    "### GET Method\n",
    "\n",
    "1. **Purpose**:\n",
    "   - The GET method is used to request data from a specified resource. It is typically used to retrieve information from the server without causing any side effects.\n",
    "\n",
    "2. **Characteristics**:\n",
    "   - **Data in URL**: Data is sent as part of the URL, either in the path or as query parameters. For example, `http://example.com/search?query=flask`.\n",
    "   - **Cacheable**: GET requests can be cached by browsers and intermediate proxies.\n",
    "   - **Bookmarkable**: Since the parameters are in the URL, GET requests can be bookmarked.\n",
    "   - **Idempotent**: Repeated requests with the same URL will result in the same response without any side effects on the server.\n",
    "\n",
    "3. **Usage**:\n",
    "   - Retrieving data, such as displaying a web page or fetching search results.\n",
    "   - Safe operations that do not alter the server state.\n",
    "\n",
    "### POST Method\n",
    "\n",
    "1. **Purpose**:\n",
    "   - The POST method is used to send data to the server to create or update a resource. It typically involves submitting form data or uploading a file.\n",
    "\n",
    "2. **Characteristics**:\n",
    "   - **Data in Body**: Data is sent in the body of the request, not in the URL. This makes POST requests suitable for sending large amounts of data or sensitive information.\n",
    "   - **Not Cacheable**: POST requests are generally not cached.\n",
    "   - **Not Bookmarkable**: Since the data is in the body, POST requests cannot be bookmarked.\n",
    "   - **Not Idempotent**: Repeated POST requests can have different effects (e.g., submitting a form multiple times might create multiple entries).\n",
    "\n",
    "3. **Usage**:\n",
    "   - Submitting form data, such as user registration or login forms.\n",
    "   - Uploading files to the server.\n",
    "   - Performing operations that change the server state, such as adding a new record to a database.\n",
    " "
   ]
  },
  {
   "cell_type": "markdown",
   "id": "d38c59e3-521c-4e23-9134-2814f62c3e1b",
   "metadata": {},
   "source": [
    "### Q2. Why is request used in Flask?\n",
    "In Flask, the request object is a global object that represents the HTTP request made by a client to the server. It contains all the data sent by the client in the HTTP request, such as form data, query parameters, headers, cookies, and files. The request object is essential for handling and processing incoming data from clients."
   ]
  },
  {
   "cell_type": "markdown",
   "id": "5b5f578c-4c2f-4b47-ad31-ace4224ae278",
   "metadata": {},
   "source": [
    "### Q3. Why is redirect() used in Flask?\n",
    "\n",
    "In Flask, the redirect() function is used to redirect a client to a different URL. This is useful in various scenarios where you need to dynamically send users to another endpoint, either within the same application or to an external site."
   ]
  },
  {
   "cell_type": "markdown",
   "id": "b28e15dc-4994-4ed7-b6c7-4d9d21a79024",
   "metadata": {},
   "source": [
    "### Q4. What are templates in Flask? Why is the render_template() function used?\n",
    "\n",
    "#### Templates in Flask\n",
    "\n",
    "Templates in Flask are used to separate the logic of the application from the presentation layer. This means the Python code that handles the logic and data processing is kept separate from the HTML code that displays the data to the user. Templates allow you to dynamically generate HTML based on the data provided by your Flask application.\n",
    "\n",
    "Flask uses the Jinja2 templating engine to render templates. Jinja2 is a powerful template engine for Python that allows you to include logic within your HTML, such as loops, conditionals, and more.\n",
    "\n",
    "#### Why is the `render_template()` Function Used?\n",
    "\n",
    "The `render_template()` function is used to render HTML templates in Flask. It combines a template with a context dictionary (data) and returns a string of the rendered HTML. This function is essential for serving dynamic web pages where the content can change based on the input data or user interactions.\n",
    "\n",
    "#### Key Features of Templates and `render_template()`\n",
    "\n",
    "1. **Separation of Concerns**:\n",
    "   - Keeps the presentation layer (HTML) separate from the business logic (Python code).\n",
    "\n",
    "2. **Dynamic Content**:\n",
    "   - Allows you to generate HTML dynamically based on data provided by the Flask application.\n",
    "\n",
    "3. **Reusability**:\n",
    "   - Enables you to reuse HTML structures by including and extending templates.\n",
    "\n",
    "4. **Maintainability**:\n",
    "   - Makes it easier to maintain and update the code since the HTML and Python logic are separated.\n",
    " "
   ]
  },
  {
   "cell_type": "code",
   "execution_count": null,
   "id": "c41113ec-b04d-4972-8849-cfdb3c88d856",
   "metadata": {},
   "outputs": [],
   "source": [
    "from flask import Flask, request, render_template_string\n",
    "\n",
    "app = Flask(__name__)\n",
    "\n",
    "form_html = '''\n",
    "<!doctype html>\n",
    "<html lang=\"en\">\n",
    "  <head>\n",
    "    <meta charset=\"utf-8\">\n",
    "    <title>Flask Request Example</title>\n",
    "  </head>\n",
    "  <body>\n",
    "    <h1>Submit Your Data</h1>\n",
    "    <form method=\"POST\" action=\"/submit\" enctype=\"multipart/form-data\">\n",
    "      <label for=\"name\">Name:</label>\n",
    "      <input type=\"text\" id=\"name\" name=\"name\"><br>\n",
    "      <label for=\"file\">Upload a file:</label>\n",
    "      <input type=\"file\" id=\"file\" name=\"file\"><br>\n",
    "      <button type=\"submit\">Submit</button>\n",
    "    </form>\n",
    "  </body>\n",
    "</html>\n",
    "'''\n",
    "\n",
    "@app.route('/')\n",
    "def index():\n",
    "    return render_template_string(form_html)\n",
    "\n",
    "@app.route('/submit', methods=['POST'])\n",
    "def submit():\n",
    "    name = request.form['name']\n",
    "    uploaded_file = request.files['file']\n",
    "    uploaded_file.save(f'/path/to/save/{uploaded_file.filename}')\n",
    "    return f'Hello, {name}! File {uploaded_file.filename} uploaded successfully!'\n",
    "\n",
    "@app.route('/search')\n",
    "def search():\n",
    "    query = request.args.get('query')\n",
    "    return f'Search results for: {query}'\n",
    "\n",
    "@app.route('/headers')\n",
    "def headers():\n",
    "    user_agent = request.headers.get('User-Agent')\n",
    "    return f'Your User-Agent is: {user_agent}'\n",
    "\n",
    "@app.route('/get-cookie')\n",
    "def get_cookie():\n",
    "    username = request.cookies.get('username')\n",
    "    return f'Username from cookie: {username}'\n",
    "\n",
    "@app.route('/json', methods=['POST'])\n",
    "def json_data():\n",
    "    data = request.get_json()\n",
    "    return f'Received JSON data: {data}'\n",
    "\n",
    "if __name__ == '__main__':\n",
    "    app.run(debug=True)"
   ]
  },
  {
   "cell_type": "markdown",
   "id": "53579fcc-7e95-4295-a972-30db8409c740",
   "metadata": {},
   "source": [
    "### Q5. Create a simple API. Use Postman to test it. Attach the screenshot of the output in the Jupyter Notebook."
   ]
  },
  {
   "cell_type": "code",
   "execution_count": 1,
   "id": "3fcb807e-2277-469f-a065-e01f2560c276",
   "metadata": {},
   "outputs": [
    {
     "data": {
      "text/html": [
       "<img src=\"postman_screenshot.png\"/>"
      ],
      "text/plain": [
       "<IPython.core.display.Image object>"
      ]
     },
     "execution_count": 1,
     "metadata": {},
     "output_type": "execute_result"
    }
   ],
   "source": [
    "# import image module \n",
    "from IPython.display import Image \n",
    "\n",
    "# get the image \n",
    "Image(url=\"postman_screenshot.png\")"
   ]
  }
 ],
 "metadata": {
  "kernelspec": {
   "display_name": "Python 3 (ipykernel)",
   "language": "python",
   "name": "python3"
  },
  "language_info": {
   "codemirror_mode": {
    "name": "ipython",
    "version": 3
   },
   "file_extension": ".py",
   "mimetype": "text/x-python",
   "name": "python",
   "nbconvert_exporter": "python",
   "pygments_lexer": "ipython3",
   "version": "3.10.8"
  }
 },
 "nbformat": 4,
 "nbformat_minor": 5
}
