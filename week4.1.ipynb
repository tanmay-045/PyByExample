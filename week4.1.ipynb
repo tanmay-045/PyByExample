{
 "cells": [
  {
   "cell_type": "markdown",
   "id": "d7c25fd3-49cd-43b2-aa28-262084748982",
   "metadata": {},
   "source": [
    "## Q1. Create a vehicle class with an init method having instance variables as name_of_vehicle, max_speed and average_of_vehicle. "
   ]
  },
  {
   "cell_type": "code",
   "execution_count": 1,
   "id": "03214723-4a00-4aba-8f7c-57180c7b14cf",
   "metadata": {},
   "outputs": [],
   "source": [
    "# declaring class\n",
    "class vehicle:\n",
    "    def __init__(self,name,speed,average):\n",
    "        self.name_of_vehicle=name\n",
    "        self.max_speed=speed\n",
    "        self.average_of_vehicle=average"
   ]
  },
  {
   "cell_type": "code",
   "execution_count": 2,
   "id": "362134ed-a9c7-4a11-96f3-ffbac40bedec",
   "metadata": {},
   "outputs": [],
   "source": [
    "# creating instance\n",
    "obj_of_vehicle=vehicle('Aston Martin DB11 V12',310,7)"
   ]
  },
  {
   "cell_type": "code",
   "execution_count": 3,
   "id": "8cad5153-95e2-474e-8485-336543d26874",
   "metadata": {},
   "outputs": [
    {
     "name": "stdout",
     "output_type": "stream",
     "text": [
      "Name of vehicle : Aston Martin DB11 V12\n",
      "Speed of vehicle : 310 Kmph\n",
      "Average of vehicle : 7 Kmpl\n"
     ]
    }
   ],
   "source": [
    "# accessing variables\n",
    "print('Name of vehicle : {}'.format(obj_of_vehicle.name_of_vehicle))\n",
    "print('Speed of vehicle : {} Kmph'.format(obj_of_vehicle.max_speed))\n",
    "print('Average of vehicle : {} Kmpl'.format(obj_of_vehicle.average_of_vehicle))"
   ]
  },
  {
   "cell_type": "markdown",
   "id": "837ebe27-04f9-4bab-bd7b-372137db8684",
   "metadata": {},
   "source": [
    "## Q2.  Create a child class car from the vehicle class created in Que 1, which will inherit the vehicle class. Create a method named seating_capacity which takes capacity as an argument and returns the name of the vehicle and its seating capacity."
   ]
  },
  {
   "cell_type": "code",
   "execution_count": 4,
   "id": "a401480a-c763-4f06-8e9d-d39e190a15ba",
   "metadata": {},
   "outputs": [],
   "source": [
    "class car(vehicle):\n",
    "    \n",
    "    def __init__(self,name,speed,average):\n",
    "        super().__init__(name,speed,average)\n",
    "        \n",
    "    def seating_capacity(self,cap):\n",
    "        return f\"Seating capacity of {self.name_of_vehicle} is {cap}.\"\n",
    "    \n",
    "# super() is a built-in Python function that is used to call a method from a parent or superclass. \n",
    "# It is particularly useful when you have a subclass that inherits from a superclass (parent class), \n",
    "# and you want to invoke a method or constructor defined in the superclass from the subclass."
   ]
  },
  {
   "cell_type": "code",
   "execution_count": 5,
   "id": "282ec2e0-d7b1-4c58-9baf-3d8e032a900e",
   "metadata": {},
   "outputs": [],
   "source": [
    "obj_of_car=car('Audi RS7',299,8.7)"
   ]
  },
  {
   "cell_type": "code",
   "execution_count": 6,
   "id": "37fbe645-5f12-40a0-8856-e24610ced8a3",
   "metadata": {},
   "outputs": [
    {
     "data": {
      "text/plain": [
       "'Seating capacity of Audi RS7 is 4.'"
      ]
     },
     "execution_count": 6,
     "metadata": {},
     "output_type": "execute_result"
    }
   ],
   "source": [
    "obj_of_car.seating_capacity(4)"
   ]
  },
  {
   "cell_type": "markdown",
   "id": "7d6ddfe7-1810-482a-975b-c5b14f38176f",
   "metadata": {},
   "source": [
    "## Q3. What is multiple inheritance? Write a python code to demonstrate multiple inheritance.\n",
    "\n",
    "### Multiple Inheritance is a type of inheritance in which a child class can inherit properties and methods from more than one parent class.\n",
    "### below is the example given to explain the same."
   ]
  },
  {
   "cell_type": "code",
   "execution_count": 7,
   "id": "1ae33108-895a-4845-9175-0a004b99c01c",
   "metadata": {},
   "outputs": [],
   "source": [
    "class father:\n",
    "    def prop_of_father(self):\n",
    "        print('I am Heroic!')\n",
    "\n",
    "class mother:\n",
    "    def prop_of_mother(self):\n",
    "        print('I am Brave!')\n",
    "        \n",
    "class child(father,mother):\n",
    "    def prop_of_child(self):\n",
    "        print('I am Playful')"
   ]
  },
  {
   "cell_type": "code",
   "execution_count": 8,
   "id": "5cb7c1d3-2c21-4c30-86a1-2922274486de",
   "metadata": {},
   "outputs": [],
   "source": [
    "obj_child=child()"
   ]
  },
  {
   "cell_type": "code",
   "execution_count": 26,
   "id": "443ac1b2-a6f3-48b4-9dc2-f6976e2c3fab",
   "metadata": {},
   "outputs": [
    {
     "name": "stdout",
     "output_type": "stream",
     "text": [
      "I am Heroic!\n"
     ]
    }
   ],
   "source": [
    "# observe how object of 'child' class can access the methods from two different parent classes 'father' and 'mother'.\n",
    "obj_child.prop_of_father()"
   ]
  },
  {
   "cell_type": "code",
   "execution_count": 10,
   "id": "38b02701-2860-4b3b-a65f-c110f4bf9997",
   "metadata": {},
   "outputs": [
    {
     "name": "stdout",
     "output_type": "stream",
     "text": [
      "I am Brave!\n"
     ]
    }
   ],
   "source": [
    "obj_child.prop_of_mother()"
   ]
  },
  {
   "cell_type": "code",
   "execution_count": 11,
   "id": "0e177727-75e7-4966-a0aa-5a42c047a5d5",
   "metadata": {},
   "outputs": [
    {
     "name": "stdout",
     "output_type": "stream",
     "text": [
      "I am Playful\n"
     ]
    }
   ],
   "source": [
    "obj_child.prop_of_child()"
   ]
  },
  {
   "cell_type": "markdown",
   "id": "c6133da2-dba3-47ef-be97-c6af9d2bd5ff",
   "metadata": {},
   "source": [
    "## Q4. What are getter and setter in python? Create a class and create a getter and a setter method in this class.\n",
    "\n",
    "### In python, getters and setters are methods used to control access to an object's attributes (instance variables). \n",
    "### They are often used to enforce encapsulation. \n",
    "### Below is the example given"
   ]
  },
  {
   "cell_type": "code",
   "execution_count": 12,
   "id": "297252ed-e658-488e-a6e8-2fef0a6551b1",
   "metadata": {},
   "outputs": [],
   "source": [
    "class acc_details:\n",
    "    \n",
    "    def __init__(self,acc_name,acc_no):\n",
    "        self._acc_name=acc_name\n",
    "        self._acc_no=acc_no\n",
    "    \n",
    "    # creating getter function for account name to access acc_name\n",
    "    def get_acc_name(self):\n",
    "        return self._acc_name\n",
    "    \n",
    "    # creating setter function for account name to modify acc_name\n",
    "    def set_acc_name(self,name):\n",
    "        self._acc_name=name\n",
    "        print('Name Updated')\n",
    "        \n",
    "    # creating getter function for account number to access acc_number\n",
    "    def get_acc_no(self):\n",
    "        return self._acc_no\n",
    "    \n",
    "    # creating setter function for account number to modify acc_no\n",
    "    def set_acc_no(self,number):\n",
    "        if len(str(number))<10:\n",
    "            print('Invalid Number')\n",
    "        else:\n",
    "            self._acc_no=number\n",
    "            print('Account Number Updated')\n",
    "            \n",
    "            \n",
    "# Note\n",
    "# single underscore before variable name means protected '_variable'. It is hidden but can be accessed using instance.\n",
    "# double underscore before variable name means private '__variable'. It is hidden & can't be accessed directly."
   ]
  },
  {
   "cell_type": "code",
   "execution_count": 13,
   "id": "185c51aa-ed4d-4828-8a6f-c2930eb5cf6b",
   "metadata": {},
   "outputs": [],
   "source": [
    "obj1=acc_details('Mukesh',9876543210)"
   ]
  },
  {
   "cell_type": "code",
   "execution_count": 14,
   "id": "ebb59e79-cf06-42d0-8789-813e829f39b6",
   "metadata": {},
   "outputs": [
    {
     "data": {
      "text/plain": [
       "'Mukesh'"
      ]
     },
     "execution_count": 14,
     "metadata": {},
     "output_type": "execute_result"
    }
   ],
   "source": [
    "# using getter method to access 'acc_name'\n",
    "obj1.get_acc_name()"
   ]
  },
  {
   "cell_type": "code",
   "execution_count": 15,
   "id": "1a688cb4-26b1-4d66-8c3b-826a83fc8990",
   "metadata": {},
   "outputs": [
    {
     "name": "stdout",
     "output_type": "stream",
     "text": [
      "Name Updated\n"
     ]
    }
   ],
   "source": [
    "# using setter method to modify 'acc_name'\n",
    "obj1.set_acc_name('Rajesh')"
   ]
  },
  {
   "cell_type": "code",
   "execution_count": 16,
   "id": "7ce90845-eb11-42df-87cc-d7660c021a4b",
   "metadata": {},
   "outputs": [
    {
     "data": {
      "text/plain": [
       "'Rajesh'"
      ]
     },
     "execution_count": 16,
     "metadata": {},
     "output_type": "execute_result"
    }
   ],
   "source": [
    "obj1.get_acc_name()"
   ]
  },
  {
   "cell_type": "code",
   "execution_count": 17,
   "id": "50313d28-4010-4be0-833c-5d0e493c5559",
   "metadata": {},
   "outputs": [
    {
     "data": {
      "text/plain": [
       "9876543210"
      ]
     },
     "execution_count": 17,
     "metadata": {},
     "output_type": "execute_result"
    }
   ],
   "source": [
    "# using getter method to access 'acc_no'\n",
    "obj1.get_acc_no()"
   ]
  },
  {
   "cell_type": "code",
   "execution_count": 18,
   "id": "09e7b183-0cae-4607-9def-4d5a82bab117",
   "metadata": {},
   "outputs": [
    {
     "name": "stdout",
     "output_type": "stream",
     "text": [
      "Invalid Number\n"
     ]
    }
   ],
   "source": [
    "# using setter method to access 'acc_no'\n",
    "obj1.set_acc_no(123)"
   ]
  },
  {
   "cell_type": "code",
   "execution_count": 19,
   "id": "a4249368-484d-4053-9e02-b7cba19e6993",
   "metadata": {},
   "outputs": [
    {
     "name": "stdout",
     "output_type": "stream",
     "text": [
      "Account Number Updated\n"
     ]
    }
   ],
   "source": [
    "obj1.set_acc_no(1234567890)"
   ]
  },
  {
   "cell_type": "code",
   "execution_count": 20,
   "id": "027f5517-46f1-44af-8c79-b1a06ce66201",
   "metadata": {},
   "outputs": [
    {
     "data": {
      "text/plain": [
       "1234567890"
      ]
     },
     "execution_count": 20,
     "metadata": {},
     "output_type": "execute_result"
    }
   ],
   "source": [
    "obj1.get_acc_no()"
   ]
  },
  {
   "cell_type": "markdown",
   "id": "152abe56-aecb-449b-bf9c-d361f72e3514",
   "metadata": {},
   "source": [
    "## Q5.What is method overriding in python? Write a python code to demonstrate method overriding.\n",
    "\n",
    "### Method overriding is a feature in object-oriented programming (OOP) that allows a subclass to provide a specific implementation of a method that is already defined in its superclass (parent class). When a method is overridden in a subclass, the subclass's version of the method is executed instead of the superclass's version when the method is called on an instance of the subclass.\n",
    "### Below is the example given"
   ]
  },
  {
   "cell_type": "code",
   "execution_count": 21,
   "id": "4091c4fb-5e5c-49f7-b73f-b6e305e13a9a",
   "metadata": {},
   "outputs": [],
   "source": [
    "class employee:\n",
    "    def salary(self):\n",
    "        return f\"Minimum basic salary is 20,000\"\n",
    "\n",
    "class worker(employee):\n",
    "    def salary(self): # overriding 'salary' method for class 'worker'\n",
    "        return f\"Total Salary of a worker is 29,000\"\n",
    "\n",
    "class manager(employee):\n",
    "    def salary(self): # overriding 'salary' method for class 'manager'\n",
    "        return f\"Total salary of manager is 40,000\""
   ]
  },
  {
   "cell_type": "code",
   "execution_count": 22,
   "id": "a4d0c5f5-0379-432b-ae6d-eefceaae3ca5",
   "metadata": {},
   "outputs": [],
   "source": [
    "obj_emp=employee()\n",
    "obj_worker=worker()\n",
    "obj_manager=manager()"
   ]
  },
  {
   "cell_type": "code",
   "execution_count": 23,
   "id": "3a204b73-fd74-4172-a754-3fb96c023a6c",
   "metadata": {},
   "outputs": [
    {
     "data": {
      "text/plain": [
       "'Minimum basic salary is 20,000'"
      ]
     },
     "execution_count": 23,
     "metadata": {},
     "output_type": "execute_result"
    }
   ],
   "source": [
    "obj_emp.salary()"
   ]
  },
  {
   "cell_type": "code",
   "execution_count": 24,
   "id": "fdedc137-b7cd-4f11-8c60-e74b0a8976ad",
   "metadata": {},
   "outputs": [
    {
     "data": {
      "text/plain": [
       "'Total Salary of a worker is 29,000'"
      ]
     },
     "execution_count": 24,
     "metadata": {},
     "output_type": "execute_result"
    }
   ],
   "source": [
    "obj_worker.salary()"
   ]
  },
  {
   "cell_type": "code",
   "execution_count": 25,
   "id": "50162133-d08b-4542-b59b-1871cfc51699",
   "metadata": {},
   "outputs": [
    {
     "data": {
      "text/plain": [
       "'Total salary of manager is 40,000'"
      ]
     },
     "execution_count": 25,
     "metadata": {},
     "output_type": "execute_result"
    }
   ],
   "source": [
    "obj_manager.salary()"
   ]
  }
 ],
 "metadata": {
  "kernelspec": {
   "display_name": "Python 3 (ipykernel)",
   "language": "python",
   "name": "python3"
  },
  "language_info": {
   "codemirror_mode": {
    "name": "ipython",
    "version": 3
   },
   "file_extension": ".py",
   "mimetype": "text/x-python",
   "name": "python",
   "nbconvert_exporter": "python",
   "pygments_lexer": "ipython3",
   "version": "3.10.8"
  }
 },
 "nbformat": 4,
 "nbformat_minor": 5
}
