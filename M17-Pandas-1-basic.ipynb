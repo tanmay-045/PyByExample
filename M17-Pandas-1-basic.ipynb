{
 "cells": [
  {
   "cell_type": "markdown",
   "id": "ebed42dc-03a1-4252-822c-cc170e0b1aa6",
   "metadata": {},
   "source": [
    "### Q1. Create a Pandas Series that contains the following data: 4, 8, 15, 16, 23, and 42. Then, print the series."
   ]
  },
  {
   "cell_type": "code",
   "execution_count": 1,
   "id": "8e4e9789-b196-4f55-b1ab-74cf5d046e48",
   "metadata": {},
   "outputs": [],
   "source": [
    "import pandas as pd"
   ]
  },
  {
   "cell_type": "code",
   "execution_count": 2,
   "id": "d77f633e-b742-4f7a-b330-c778d2f7ac22",
   "metadata": {},
   "outputs": [
    {
     "name": "stdout",
     "output_type": "stream",
     "text": [
      "0     4\n",
      "1     8\n",
      "2    15\n",
      "3    16\n",
      "4    23\n",
      "5    42\n",
      "Name: series, dtype: int64\n"
     ]
    }
   ],
   "source": [
    "df_series=pd.DataFrame(\n",
    "    { \"series\" : [4,8,15,16,23,42]\n",
    "    }\n",
    ")\n",
    "\n",
    "print(df_series.series)"
   ]
  },
  {
   "cell_type": "markdown",
   "id": "e3592d57-d894-4abe-93ae-335a2b3f51a8",
   "metadata": {},
   "source": [
    "### Q2. Create a variable of list type containing 10 elements in it, and apply pandas.Series function on the variable print it."
   ]
  },
  {
   "cell_type": "code",
   "execution_count": 3,
   "id": "718f973d-fd99-405c-9933-ece1341f4cc4",
   "metadata": {},
   "outputs": [
    {
     "name": "stdout",
     "output_type": "stream",
     "text": [
      "Dtype of list: <class 'list'>\n",
      "Dtype of variable 'sample_list' now : <class 'pandas.core.series.Series'>\n",
      "0     10\n",
      "1     11\n",
      "2     12\n",
      "3     13\n",
      "4     14\n",
      "5     15\n",
      "6     16\n",
      "7     17\n",
      "8     18\n",
      "9     19\n",
      "10    20\n",
      "dtype: int64\n"
     ]
    }
   ],
   "source": [
    "# creating list\n",
    "sample_list=[i for i in range(10,21)]\n",
    "print(f'Dtype of list: {type(sample_list)}')\n",
    "\n",
    "# type casting to panda.Series\n",
    "sample_list=pd.Series(sample_list)\n",
    "\n",
    "print(f\"Dtype of variable 'sample_list' now : {type(sample_list)}\")\n",
    "print(sample_list)"
   ]
  },
  {
   "cell_type": "code",
   "execution_count": 4,
   "id": "196a5da0-40b8-44ee-bb8d-4a9388c5af47",
   "metadata": {},
   "outputs": [
    {
     "data": {
      "text/plain": [
       "0     10\n",
       "1     11\n",
       "2     12\n",
       "3     13\n",
       "4     14\n",
       "5     15\n",
       "6     16\n",
       "7     17\n",
       "8     18\n",
       "9     19\n",
       "10    20\n",
       "dtype: int64"
      ]
     },
     "execution_count": 4,
     "metadata": {},
     "output_type": "execute_result"
    }
   ],
   "source": [
    "sample_list"
   ]
  },
  {
   "cell_type": "markdown",
   "id": "01f5b6aa-20cb-4fda-b668-a5dce9cc48be",
   "metadata": {},
   "source": [
    "### Q3. Create a Pandas DataFrame that contains the following data:\n",
    "|Name|Age|Gender|\n",
    "|----------|----------|----------|\n",
    "|Alice|25|Female|\n",
    "|Bob|30|Male|\n",
    "|Claire|27|Female|"
   ]
  },
  {
   "cell_type": "code",
   "execution_count": 5,
   "id": "f8d231b5-6e75-4e43-ba34-4d026454b355",
   "metadata": {},
   "outputs": [
    {
     "name": "stdout",
     "output_type": "stream",
     "text": [
      "     Name  Age  Gender\n",
      "0   Alice   25  Female\n",
      "1     Bob   30    Male\n",
      "2  Gender   27  Female\n"
     ]
    }
   ],
   "source": [
    "df1=pd.DataFrame(\n",
    "    {\n",
    "        'Name' : ['Alice', 'Bob', 'Gender'],\n",
    "        'Age'  : [25,30,27],\n",
    "        'Gender': ['Female','Male','Female']\n",
    "    }\n",
    ")\n",
    "\n",
    "print(df1)"
   ]
  },
  {
   "cell_type": "markdown",
   "id": "1ec4bdab-2d2f-4669-82f5-85db96e34dc8",
   "metadata": {},
   "source": [
    "### Q4. What is ‘DataFrame’ in pandas and how is it different from pandas.series? Explain with an example.\n",
    "\n",
    "**Dataframe(2-Dim) and Series(1-Dim) are two primary datastructures of pandas,**\n",
    "<br>\n",
    "*A DataFrame is a 2-dimensional data structure that can store data of different types (including characters, integers, floating point values, categorical data and more) in columns.*\n",
    "<br>\n",
    "*Each column in a DataFrame is a Series. When selecting a single column of a pandas DataFrame, the result is a pandas Series.*\n",
    "<br><br>\n",
    "**Difference**\n",
    "<br>\n",
    "**DataFrame:** Suitable for handling and manipulating tabular data with multiple columns. Each column can be of a different data type.\n",
    "<br>\n",
    "**Series:** Suitable for handling a single column of data or a one-dimensional array.\n",
    "<br><br>\n",
    "Example given below:-"
   ]
  },
  {
   "cell_type": "code",
   "execution_count": 7,
   "id": "1946af9f-213e-40c5-8c04-16e81ad73587",
   "metadata": {},
   "outputs": [
    {
     "name": "stdout",
     "output_type": "stream",
     "text": [
      "Dataframe :\n",
      "      Name  Age  Gender\n",
      "0   Alice   25  Female\n",
      "1     Bob   30    Male\n",
      "2  Gender   27  Female\n",
      "\n",
      "Series :\n",
      " 0    25\n",
      "1    30\n",
      "2    27\n",
      "Name: Age, dtype: int64\n"
     ]
    }
   ],
   "source": [
    "# Consider the question 3\n",
    "\n",
    "# printing the dataframe df1\n",
    "print('Dataframe :\\n',df1)\n",
    "\n",
    "# printing the series\n",
    "print('\\nSeries :\\n',df1['Age'])"
   ]
  },
  {
   "cell_type": "markdown",
   "id": "d2711d2d-0b22-4d92-8b93-5e6a17b1df98",
   "metadata": {},
   "source": [
    "### Q5. What are some common functions you can use to manipulate data in a Pandas DataFrame? Can you give an example of when you might use one of these functions?\n",
    "\n",
    "*Some common functions of pandas are:-*\n",
    "<br>\n",
    "**head() and tail():** To view the first or last few rows of the DataFrame.\n",
    "<br>\n",
    "**info():** To get a concise summary of the DataFrame.\n",
    "<br>\n",
    "**describe():** To get summary statistics of the DataFrame.\n",
    "<br>\n",
    "**shape:** To get the dimensions of the DataFrame.\n",
    "<br>\n",
    "**columns and index:** To get the column and index labels.\n",
    "<br>\n",
    "**dtypes:** To get the data types of each column.\n",
    "<br>\n",
    "**sort_values():** To sort the DataFrame by the values of one or more columns.\n",
    "<br>\n",
    "\n",
    "Example of 'sort_values()' is given below:-"
   ]
  },
  {
   "cell_type": "code",
   "execution_count": 8,
   "id": "adae0c20-a513-46b5-88bf-a3e83b170eb0",
   "metadata": {},
   "outputs": [
    {
     "name": "stdout",
     "output_type": "stream",
     "text": [
      "     Name  Age  Gender\n",
      "0   Alice   25  Female\n",
      "1     Bob   30    Male\n",
      "2  Gender   27  Female \n",
      "\n",
      "\n",
      "Sorted dataframe (by-Age):-\n",
      "\n",
      "      Name  Age  Gender\n",
      "0   Alice   25  Female\n",
      "2  Gender   27  Female\n",
      "1     Bob   30    Male\n"
     ]
    }
   ],
   "source": [
    "# consider the dataframe from ques.3\n",
    "print(df1,'\\n\\n')\n",
    "\n",
    "# printing the sorted dataframe\n",
    "print('Sorted dataframe (by-Age):-\\n\\n',df1.sort_values(by=['Age']))"
   ]
  },
  {
   "cell_type": "markdown",
   "id": "850cb720-ae6a-4c77-93ce-b854a18d1ffe",
   "metadata": {},
   "source": [
    "### Q6. Which of the following is mutable in nature Series, DataFrame, Panel?\n",
    "\n",
    "*In pandas, both `Series` and `DataFrame` are mutable in nature. This means you can modify their contents after they are created. On the other hand, `Panel` was a three-dimensional data structure in pandas, which is now deprecated and has been removed in newer versions of pandas (starting from version 1.0.0).*\n",
    "\n",
    "- **Series**: A one-dimensional array-like object that can hold any data type. You can modify its elements, add new elements, or remove existing ones.\n",
    "- **DataFrame**: A two-dimensional, size-mutable, and potentially heterogeneous tabular data structure with labeled axes (rows and columns). You can modify its data, add or remove rows and columns, and change the data types of its columns.\n",
    "- **Panel**: Deprecated and no longer available in newer versions of pandas."
   ]
  },
  {
   "cell_type": "code",
   "execution_count": 9,
   "id": "b5d54876-d872-430b-9e36-32dcaee32553",
   "metadata": {},
   "outputs": [
    {
     "name": "stdout",
     "output_type": "stream",
     "text": [
      "0    1\n",
      "1    2\n",
      "2    3\n",
      "3    4\n",
      "4    5\n",
      "dtype: int64\n",
      "0    98\n",
      "1     2\n",
      "2     3\n",
      "3     4\n",
      "4     5\n",
      "dtype: int64\n"
     ]
    }
   ],
   "source": [
    "# Modifying a series\n",
    "\n",
    "# Create a Series\n",
    "s = pd.Series([1, 2, 3, 4, 5])\n",
    "print(s)\n",
    "\n",
    "# Modify an element\n",
    "s[0] = 98\n",
    "print(s)"
   ]
  },
  {
   "cell_type": "code",
   "execution_count": 10,
   "id": "906e82cd-80dc-46af-baec-c80715646207",
   "metadata": {},
   "outputs": [
    {
     "name": "stdout",
     "output_type": "stream",
     "text": [
      "      Name  Age         City\n",
      "0    Alice   28     New York\n",
      "1      Bob   30  Los Angeles\n",
      "2  Charlie   35      Chicago\n"
     ]
    }
   ],
   "source": [
    "# Modifying Dataframe\n",
    "\n",
    "data = {\n",
    "    'Name': ['Alice', 'Bob', 'Charlie'],\n",
    "    'Age': [25, 30, 35]\n",
    "}\n",
    "df2 = pd.DataFrame(data)\n",
    "\n",
    "# Modify a column value\n",
    "df2.loc[0, 'Age'] = 28\n",
    "\n",
    "# Add a new column\n",
    "df2['City'] = ['New York', 'Los Angeles', 'Chicago']\n",
    "\n",
    "print(df2)"
   ]
  },
  {
   "cell_type": "markdown",
   "id": "5203e02d-8612-4e69-b8a0-62ef0525f934",
   "metadata": {},
   "source": [
    "### Q7. Create a DataFrame using multiple Series. Explain with an example."
   ]
  },
  {
   "cell_type": "code",
   "execution_count": 11,
   "id": "697c1c92-3887-40c2-9dfd-8b9b45e28cda",
   "metadata": {},
   "outputs": [
    {
     "name": "stdout",
     "output_type": "stream",
     "text": [
      "            Name  Class Grade\n",
      "0  Akansha Verma      6     A\n",
      "1        Vikky D      8    B+\n",
      "2       Amy JSon      4     A\n"
     ]
    }
   ],
   "source": [
    "# creating a dataframe using multiple series\n",
    "\n",
    "# creating series\n",
    "stud_name=pd.Series(['Akansha Verma', 'Vikky D', 'Amy JSon'])\n",
    "stud_class=pd.Series([6,8,4])\n",
    "stud_grade=pd.Series(['A','B+','A'])\n",
    "\n",
    "# creating dataframes\n",
    "df2=pd.DataFrame(\n",
    "    {\n",
    "    'Name':stud_name,\n",
    "    'Class':stud_class,\n",
    "    'Grade':stud_grade\n",
    "    }\n",
    ")\n",
    "\n",
    "print(df2)"
   ]
  }
 ],
 "metadata": {
  "kernelspec": {
   "display_name": "Python 3 (ipykernel)",
   "language": "python",
   "name": "python3"
  },
  "language_info": {
   "codemirror_mode": {
    "name": "ipython",
    "version": 3
   },
   "file_extension": ".py",
   "mimetype": "text/x-python",
   "name": "python",
   "nbconvert_exporter": "python",
   "pygments_lexer": "ipython3",
   "version": "3.10.8"
  }
 },
 "nbformat": 4,
 "nbformat_minor": 5
}
