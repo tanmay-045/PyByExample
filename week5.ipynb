{
 "cells": [
  {
   "cell_type": "markdown",
   "id": "71ce6e7c-72f5-4a06-852a-065a68b53139",
   "metadata": {},
   "source": [
    "### Q1. What is an Exception in python? Write the difference between Exceptions and syntax errors?\n",
    "\n",
    "In python, an Exceptions is an event that occours during the execution of a program and disrupt the normal flow of instuctions. Exceptions are a way to deal with errors and unexpcepted situations efficiently in a more controlled manner. For e.g. ZeroDivisionError and FileNotFoundError.\n",
    "\n",
    "Sytax errors are the errors which occoured due to violation of Python's syntax rules. For e.g. misspelled keywords, missing colons, or incorrect indentation.\n",
    "\n",
    "Note:-Exception occours during the execution of the program while Syntax Errors occours during the parsing of code before execution (detected by the Python interpreter)."
   ]
  },
  {
   "cell_type": "markdown",
   "id": "5ed43025-04ca-4e85-aff8-f6e59cdf7f0f",
   "metadata": {},
   "source": [
    "### Q2. What happens when a exception is not handled? Explain with an example.\n",
    "\n",
    "When an exception is not handled then program results in error and it gets terminated showing Traceback.\n",
    "below is given example:-"
   ]
  },
  {
   "cell_type": "code",
   "execution_count": 1,
   "id": "c6c1d09c-0efe-43a3-a7b7-8910217ebd64",
   "metadata": {},
   "outputs": [
    {
     "data": {
      "text/plain": [
       "5.0"
      ]
     },
     "execution_count": 1,
     "metadata": {},
     "output_type": "execute_result"
    }
   ],
   "source": [
    "def div(a,b):\n",
    "    return a/b\n",
    "\n",
    "div(20,4)\n",
    "\n",
    "# Uncommenting below code is going to result in error (ZeroDivisionError) \n",
    "# div(9,0)"
   ]
  },
  {
   "cell_type": "code",
   "execution_count": 2,
   "id": "d4894889-7b55-4846-834d-a6c70fc568d9",
   "metadata": {},
   "outputs": [
    {
     "name": "stdout",
     "output_type": "stream",
     "text": [
      "Divison by Zero is Not Allowed\n"
     ]
    }
   ],
   "source": [
    "# let us handle the above code using try and except\n",
    "def div(a,b):\n",
    "    try:\n",
    "        d=a/b\n",
    "        return d\n",
    "    except ZeroDivisionError:\n",
    "         return print('Divison by Zero is Not Allowed')\n",
    "\n",
    "div(45,0)"
   ]
  },
  {
   "cell_type": "markdown",
   "id": "e654fe88-e602-455e-9efb-d8016553dca8",
   "metadata": {},
   "source": [
    "### Q3. Which Python statements are used to catch and handle exceptions? Explain with an example.\n",
    "\n",
    "'Try' and 'Except' are used to catch and handle exceptions respectively.\n",
    "Example given below:-"
   ]
  },
  {
   "cell_type": "code",
   "execution_count": 3,
   "id": "1ea8186c-1a80-45ba-9775-9a588e13a77d",
   "metadata": {},
   "outputs": [
    {
     "name": "stdin",
     "output_type": "stream",
     "text": [
      "Enter a number =  f\n"
     ]
    },
    {
     "name": "stdout",
     "output_type": "stream",
     "text": [
      "Strings and Specical characters are not allowed\n",
      " invalid literal for int() with base 10: 'f'\n"
     ]
    }
   ],
   "source": [
    "# in the below example we let user to enter a numeric value that is typecasted to int and stored in varible 'num'\n",
    "# if user entered any special char or string then this exception is caught by try block and is Handled by Except block.\n",
    "try:\n",
    "    num=int(input('Enter a number = '))\n",
    "except ValueError as e:\n",
    "    print('Strings and Specical characters are not allowed\\n',e)"
   ]
  },
  {
   "cell_type": "markdown",
   "id": "47e0ea3a-38ba-438f-ad3a-5483015a19b2",
   "metadata": {},
   "source": [
    "### Q3. Explain with example \n",
    "### a. try and else \n",
    "### b. finally\n",
    "### c. raise"
   ]
  },
  {
   "cell_type": "code",
   "execution_count": 4,
   "id": "e07af773-050a-4677-9e05-6531b599a439",
   "metadata": {},
   "outputs": [
    {
     "name": "stdout",
     "output_type": "stream",
     "text": [
      "sum=  80\n",
      "Please enter only numeric values:  unsupported operand type(s) for +: 'int' and 'str'\n"
     ]
    }
   ],
   "source": [
    "# a. try and else\n",
    "\n",
    "# 'try' block is used to catch an exception.\n",
    "# 'else' block gets executed when try block does not raise any exception\n",
    "\n",
    "def sum(a,b):\n",
    "    try:\n",
    "        s=a+b\n",
    "    except TypeError as e:\n",
    "        print('Please enter only numeric values: ',e)\n",
    "    else:\n",
    "        return print('sum= ',s)\n",
    "\n",
    "\n",
    "sum(35,45) # Since we have entered numeric values, try block will not raise any exception. So else block will be executed.   \n",
    "sum(45,'tan') # while in this case a string value is entered which raised an exception and 'except' block get executed, left 'else' block un-executed."
   ]
  },
  {
   "cell_type": "code",
   "execution_count": 5,
   "id": "3af26346-2bce-4c6b-bb38-cc7f1fbb2b58",
   "metadata": {},
   "outputs": [
    {
     "name": "stdout",
     "output_type": "stream",
     "text": [
      "Error :  list index out of range\n",
      "this will always execute\n"
     ]
    }
   ],
   "source": [
    "# b. finally\n",
    "\n",
    "# 'finally' block get always executed irrespectie of whether try raises exception or not.\n",
    "\n",
    "try:\n",
    "    lst=[1,2,3,4,5]\n",
    "    print(lst[10])\n",
    "except IndexError as e:\n",
    "    print('Error : ',e)\n",
    "finally:\n",
    "    print('this will always execute')"
   ]
  },
  {
   "cell_type": "code",
   "execution_count": 6,
   "id": "1042329d-41c1-4948-bce7-86a26c133d6a",
   "metadata": {},
   "outputs": [],
   "source": [
    "# 'finally' mostly used to perform clean-up operations, like closing of file.\n",
    "\n",
    "try:\n",
    "    file=open('New_file_test.txt','w')\n",
    "    file.write('Hello World')\n",
    "except Exception as e:\n",
    "    print('error occoured: ',e)\n",
    "finally:\n",
    "    file.close()"
   ]
  },
  {
   "cell_type": "code",
   "execution_count": 7,
   "id": "a09b7e3c-5a03-499c-8a62-7e36bae59f87",
   "metadata": {},
   "outputs": [
    {
     "name": "stdin",
     "output_type": "stream",
     "text": [
      "Enter index value to access element in list:  12\n"
     ]
    },
    {
     "name": "stdout",
     "output_type": "stream",
     "text": [
      "list index out of range\n"
     ]
    }
   ],
   "source": [
    "# c. Raise\n",
    "# Raise statement is used to explicitely raise an exception or error.\n",
    "# example\n",
    "lst=[1,2,3,4,5,6,7]\n",
    "try:\n",
    "    i=int(input('Enter index value to access element in list: '))\n",
    "    if type(i)!=int:\n",
    "        raise ValueError\n",
    "    else:\n",
    "        if i>len(lst) and  i<0:\n",
    "            raise IndexError\n",
    "        else:\n",
    "            print(f'List Element at {i} = {lst[i]}')\n",
    "except IndexError as e:\n",
    "    print(e)\n",
    "except ValueError as e:\n",
    "    print(e)"
   ]
  },
  {
   "cell_type": "markdown",
   "id": "dd28adbe-5d1f-4c43-841b-7c5a99dbc5f5",
   "metadata": {},
   "source": [
    "### Q5. What are Custom Exceptions in python? Why do we need Custom Exceptions? Explain with an example.\n",
    "\n",
    "Custom Exceptions are user-defined exception classes that extend the built-in 'Exception' class or one of its subclasses. By creating custom exceptions, we can define and raise our own types of exceptions in our code, allowing for more specific and meaningful error handling.\n",
    "\n",
    "example:-"
   ]
  },
  {
   "cell_type": "code",
   "execution_count": 8,
   "id": "793572a8-6500-40f6-bee7-2776fdfe20dc",
   "metadata": {},
   "outputs": [
    {
     "name": "stdin",
     "output_type": "stream",
     "text": [
      "Enter a number = -9\n"
     ]
    },
    {
     "name": "stdout",
     "output_type": "stream",
     "text": [
      "Negative Number gives Imaginary Output, Error!\n"
     ]
    }
   ],
   "source": [
    "class CheckNegativeNo(Exception):\n",
    "    def __int__(self,msg):\n",
    "        self.msg=msg\n",
    "\n",
    "def sqrt_no(num):\n",
    "    if num<0:\n",
    "        raise CheckNegativeNo('Negative Number gives Imaginary Output, Error!')\n",
    "    else:\n",
    "        return print(f'Sqrt of {num} is {num**0.5}')\n",
    "\n",
    "try:\n",
    "    num=int(input('Enter a number ='))\n",
    "    sqrt_no(num)\n",
    "except CheckNegativeNo as e:\n",
    "    print(e)\n",
    "except ValueError as e:\n",
    "    print('Error : ',e)"
   ]
  },
  {
   "cell_type": "markdown",
   "id": "502e1abf-af9c-4630-b06e-8d0b7af33244",
   "metadata": {},
   "source": [
    "### Q6. Create a custom exception class. Use this class to handle an exception."
   ]
  },
  {
   "cell_type": "code",
   "execution_count": 10,
   "id": "13766600-31da-4b55-9e7b-7e59898d0152",
   "metadata": {},
   "outputs": [
    {
     "name": "stdin",
     "output_type": "stream",
     "text": [
      "Enter age =  0\n"
     ]
    },
    {
     "name": "stdout",
     "output_type": "stream",
     "text": [
      "Age should be greater than 0\n"
     ]
    }
   ],
   "source": [
    "class validateage(Exception):\n",
    "    def __init__(self,msg):\n",
    "        self.msg=msg\n",
    "\n",
    "# inherting Exception class in it.\n",
    "\n",
    "def validate_age(age):\n",
    "    if age<=0:\n",
    "        raise validateage(\"Age should be greater than 0\")\n",
    "    elif age>170:\n",
    "        raise validateage(\"Age is too high\")\n",
    "    else:\n",
    "        print(\"Age recorded\")\n",
    "        \n",
    "try:\n",
    "    age=int(input(\"Enter age = \"))\n",
    "    validate_age(age)\n",
    "except validateage as e:\n",
    "    print(e)\n",
    "except ValueError as e:\n",
    "    print(f\"There is some problem : \",e)"
   ]
  }
 ],
 "metadata": {
  "kernelspec": {
   "display_name": "Python 3 (ipykernel)",
   "language": "python",
   "name": "python3"
  },
  "language_info": {
   "codemirror_mode": {
    "name": "ipython",
    "version": 3
   },
   "file_extension": ".py",
   "mimetype": "text/x-python",
   "name": "python",
   "nbconvert_exporter": "python",
   "pygments_lexer": "ipython3",
   "version": "3.10.8"
  }
 },
 "nbformat": 4,
 "nbformat_minor": 5
}
