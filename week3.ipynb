{
 "cells": [
  {
   "cell_type": "markdown",
   "id": "88c7a137-779d-4956-a480-a63905ec33c8",
   "metadata": {},
   "source": [
    "## **Q1. Which keyword is used to create a function? Create a function to return a list of odd numbers in the range of 1 to 25.**\n",
    "\n",
    "### To create a function 'def' keyword is used.\n",
    "### Syntax:- def function_name(args):"
   ]
  },
  {
   "cell_type": "code",
   "execution_count": 1,
   "id": "7dc4ee3c-460f-46a6-a4b0-de545523ff39",
   "metadata": {},
   "outputs": [],
   "source": [
    "def odd_num():\n",
    "    print('Odd numbers from 1 to 25 are:- ')\n",
    "    for i in range(1,26):\n",
    "        if i%2==1:\n",
    "            print(i,end=' ')\n",
    "            \n",
    "# range(start_i,end_n-1)"
   ]
  },
  {
   "cell_type": "code",
   "execution_count": 2,
   "id": "649182b4-0c8e-4d5a-b358-93ffafc71e6a",
   "metadata": {},
   "outputs": [
    {
     "name": "stdout",
     "output_type": "stream",
     "text": [
      "Odd numbers from 1 to 25 are:- \n",
      "1 3 5 7 9 11 13 15 17 19 21 23 25 "
     ]
    }
   ],
   "source": [
    "odd_num()"
   ]
  },
  {
   "cell_type": "markdown",
   "id": "bf6b0cd1-104c-42b3-89c0-43bff86f2bff",
   "metadata": {},
   "source": [
    "## **Q2. Why *args and **kwargs is used in some functions? Create a function each for *args and **kwargs to demonstrate their use.**\n",
    "\n",
    "### '*args' is used to give arbitrary number of arguements (as a tuple).\n",
    "### '**kwargs' is used to give arbitrary number of arguements in keyword-pair form (as a dictionary).\n",
    "### below are the examples given to illustrate further:- "
   ]
  },
  {
   "cell_type": "code",
   "execution_count": 3,
   "id": "6840b18e-2a21-413d-b036-3a8d25e0a65e",
   "metadata": {},
   "outputs": [],
   "source": [
    "# *krgs to print multiplication of n number passed as an argument\n",
    "def mul(*nums):\n",
    "    product=1\n",
    "    for i in nums:\n",
    "        product=product*i\n",
    "    return product"
   ]
  },
  {
   "cell_type": "code",
   "execution_count": 4,
   "id": "65921705-1ed0-4ab2-93ea-894710fd200d",
   "metadata": {},
   "outputs": [
    {
     "data": {
      "text/plain": [
       "6"
      ]
     },
     "execution_count": 4,
     "metadata": {},
     "output_type": "execute_result"
    }
   ],
   "source": [
    "mul(1,2,3)"
   ]
  },
  {
   "cell_type": "code",
   "execution_count": 5,
   "id": "a97b8711-cfa9-4510-8982-f5da27e8fc81",
   "metadata": {},
   "outputs": [
    {
     "data": {
      "text/plain": [
       "252"
      ]
     },
     "execution_count": 5,
     "metadata": {},
     "output_type": "execute_result"
    }
   ],
   "source": [
    "mul(6,7,2,3)"
   ]
  },
  {
   "cell_type": "code",
   "execution_count": 6,
   "id": "a958dd9a-1a88-4f98-b287-aa6adf4b26a7",
   "metadata": {},
   "outputs": [
    {
     "data": {
      "text/plain": [
       "0"
      ]
     },
     "execution_count": 6,
     "metadata": {},
     "output_type": "execute_result"
    }
   ],
   "source": [
    "mul(9,4,2,0,5,9,2)"
   ]
  },
  {
   "cell_type": "code",
   "execution_count": 7,
   "id": "76f147dd-e926-48c0-a09f-bab60fd26d99",
   "metadata": {},
   "outputs": [],
   "source": [
    "# **kwargs\n",
    "def info(**data):\n",
    "    print('\\n')\n",
    "    for key,val in data.items():\n",
    "        print('{} = {}'.format(key,val))      "
   ]
  },
  {
   "cell_type": "code",
   "execution_count": 8,
   "id": "1f32f3a8-5016-45c2-9707-4d704afefe31",
   "metadata": {},
   "outputs": [
    {
     "name": "stdout",
     "output_type": "stream",
     "text": [
      "\n",
      "\n",
      "Name = Tan\n",
      "Age = 21\n",
      "Contact = 576566\n",
      "\n",
      "\n",
      "Name = Sam\n",
      "Address = 6th st.Haymolds Garden\n",
      "Country = Ind\n",
      "Currency = INR\n",
      "\n",
      "\n",
      "Fruit = Mango\n",
      "Colour = Yellow\n"
     ]
    }
   ],
   "source": [
    "info(Name='Tan',Age='21',Contact='576566')\n",
    "info(Name='Sam',Address='6th st.Haymolds Garden',Country='Ind',Currency='INR')\n",
    "info(Fruit='Mango',Colour='Yellow')"
   ]
  },
  {
   "cell_type": "markdown",
   "id": "c7931c72-bb81-4143-9950-210c3579f7ea",
   "metadata": {},
   "source": [
    "## **Q3.  What is an iterator in python?**\n",
    "## **Name the method used to initialise the iterator object and the method used for iteration.** \n",
    "## **Use these methods to print the first five elements of the given list** \n",
    "## **[2, 4, 6, 8, 10, 12, 14, 16,18, 20].**\n",
    "\n",
    "### An iterator in Python is an object which allows to traverse through the sequence of elements of list,tuple,sets etc.\n",
    "### We can use 'iter()' function to initialize an iterator object.\n",
    "### We can use 'next()' function to traverse/iterate through it."
   ]
  },
  {
   "cell_type": "code",
   "execution_count": 9,
   "id": "f52f718a-72ec-4bd3-866a-a7d30197e10a",
   "metadata": {},
   "outputs": [
    {
     "name": "stdout",
     "output_type": "stream",
     "text": [
      "2\n",
      "4\n",
      "6\n",
      "8\n",
      "10\n"
     ]
    }
   ],
   "source": [
    "list1=[2, 4, 6, 8, 10, 12, 14, 16,18, 20]\n",
    "\n",
    "iter_list=iter(list1)\n",
    "\n",
    "for i in range(5):\n",
    "    print(next(iter_list))"
   ]
  },
  {
   "cell_type": "markdown",
   "id": "9aab43b5-1ef1-4d9e-9c62-83dbd9f97528",
   "metadata": {},
   "source": [
    "## **Q4. What is a generator function in python? Why yield keyword is used? Give an example of a generator function.** \n",
    "\n",
    "### Generator Function is type of function which generates the sequence values one at a time, without needing to store entire sequence in memeory, making it memory-efficient for lagre sequences. The generator function and 'yield' keyword are used to create iterable sequences of values, space efficiently.\n",
    "### Generator function is declared as soon as we use 'yield' keyword in it. \n",
    "### Below is the example given:-"
   ]
  },
  {
   "cell_type": "code",
   "execution_count": 10,
   "id": "4c92475c-534b-4d67-9774-9e4b781cbe84",
   "metadata": {},
   "outputs": [
    {
     "name": "stdout",
     "output_type": "stream",
     "text": [
      "1\n",
      "2\n",
      "3\n"
     ]
    }
   ],
   "source": [
    "# Example 1. Basic Use\n",
    "def simple_gen():\n",
    "        yield 1\n",
    "        yield 2\n",
    "        yield 3\n",
    "\n",
    "gen = simple_gen()\n",
    "print(next(gen)) \n",
    "print(next(gen))  \n",
    "print(next(gen))  "
   ]
  },
  {
   "cell_type": "code",
   "execution_count": 11,
   "id": "b1580d2b-444e-4929-82e9-d4d019ed9e52",
   "metadata": {},
   "outputs": [
    {
     "name": "stdout",
     "output_type": "stream",
     "text": [
      "0\n",
      "1\n",
      "1\n",
      "2\n",
      "3\n",
      "5\n",
      "8\n",
      "13\n",
      "21\n",
      "34\n"
     ]
    }
   ],
   "source": [
    "# Example 2. Creating generator function for Fibonacci series\n",
    "def fib_ser(n):\n",
    "    a,b=0,1\n",
    "    for i in range(n):\n",
    "        yield a\n",
    "        a,b=b,a+b\n",
    "        \n",
    "for i in fib_ser(10):\n",
    "    print(i)"
   ]
  },
  {
   "cell_type": "markdown",
   "id": "182fd94d-34dd-4fd8-b88a-69d79cc8c800",
   "metadata": {},
   "source": [
    "## **Q5. Create a generator function for prime numbers less than 1000. Use the next() method to print the first 20 prime numbers.**"
   ]
  },
  {
   "cell_type": "code",
   "execution_count": 12,
   "id": "a9700ca5-2e75-4739-bef4-a6a2539360e7",
   "metadata": {},
   "outputs": [
    {
     "name": "stdout",
     "output_type": "stream",
     "text": [
      "First 20 prime Numbers are:- \n",
      "2 3 5 7 11 13 17 19 23 29 31 37 41 43 47 53 59 61 67 71 "
     ]
    }
   ],
   "source": [
    "# function to check if number is prime or not\n",
    "def checkprime(num):\n",
    "    if num<=1:\n",
    "        return False\n",
    "    if num%2==0 or num%3==0:\n",
    "        return False\n",
    "    if num==2 or num==3:\n",
    "        return True\n",
    "    i=5\n",
    "    while(i*i<=num):\n",
    "        if num%i==0 or num%(i+2)==0:\n",
    "            return False\n",
    "        i+=6\n",
    "    return True\n",
    "\n",
    "# function to generate prime numbers less than 1000  \n",
    "def gen_prime():\n",
    "    yield 2\n",
    "    yield 3\n",
    "    n=5\n",
    "    while n<1000:\n",
    "        if checkprime(n):\n",
    "            yield n\n",
    "        if checkprime(n+2):\n",
    "            yield (n+2)\n",
    "        n+=6\n",
    "\n",
    "# declaring iterable object\n",
    "prime_iter=gen_prime()\n",
    "\n",
    "print('First 20 prime Numbers are:- ')\n",
    "\n",
    "# loop to print first 20 prime numbers using next()\n",
    "for i in range(20):\n",
    "    prime=next(prime_iter)\n",
    "    print(prime,end=' ')"
   ]
  }
 ],
 "metadata": {
  "kernelspec": {
   "display_name": "Python 3 (ipykernel)",
   "language": "python",
   "name": "python3"
  },
  "language_info": {
   "codemirror_mode": {
    "name": "ipython",
    "version": 3
   },
   "file_extension": ".py",
   "mimetype": "text/x-python",
   "name": "python",
   "nbconvert_exporter": "python",
   "pygments_lexer": "ipython3",
   "version": "3.10.8"
  }
 },
 "nbformat": 4,
 "nbformat_minor": 5
}
