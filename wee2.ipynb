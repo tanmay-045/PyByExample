{
 "cells": [
  {
   "cell_type": "markdown",
   "id": "1bfa66a2-9c97-4982-b5a1-16646c78c507",
   "metadata": {
    "tags": []
   },
   "source": [
    "## **Q1. How do you comment code in Python? What are the different types of comments?**\n",
    "\n",
    "### Comments are used to explain the parts of code,to make python code more readable,to skip execution of commented part of code.\n",
    "### Comments are of two types *single line comment* and *multi-line comment*.\n",
    "### We can comment  in python in two ways:- \n",
    "### 1. Using triple hash ' ### ' (single line comment)\n",
    "### 2. Using triple quotes ' \"\"\" ' (multi-line comment)\n",
    "### below are given examples to illustrate further "
   ]
  },
  {
   "cell_type": "code",
   "execution_count": 1,
   "id": "c04c8340-fa5e-4a24-b9d5-560004e57f6b",
   "metadata": {},
   "outputs": [],
   "source": [
    "# this is a single line comment "
   ]
  },
  {
   "cell_type": "code",
   "execution_count": 2,
   "id": "dd5a2e95-0612-4e41-a0f4-bae6cda6015a",
   "metadata": {},
   "outputs": [],
   "source": [
    "# this is \n",
    "# a multi-line comment\n",
    "# using '#'"
   ]
  },
  {
   "cell_type": "code",
   "execution_count": 3,
   "id": "249957c1-5131-4eee-8c29-c2de056188d6",
   "metadata": {},
   "outputs": [
    {
     "name": "stdout",
     "output_type": "stream",
     "text": [
      "comments are fun\n"
     ]
    }
   ],
   "source": [
    "\"\"\"\n",
    "this is a\n",
    "multi line\n",
    "comment\n",
    "\"\"\"\n",
    "print(\"comments are fun\")"
   ]
  },
  {
   "cell_type": "code",
   "execution_count": 4,
   "id": "bac8edcb-e894-448d-a59e-f6babf1ae2b3",
   "metadata": {},
   "outputs": [
    {
     "name": "stdout",
     "output_type": "stream",
     "text": [
      "World\n"
     ]
    }
   ],
   "source": [
    "# python does not execute code after ' # ' \n",
    "# print(\"Hello\") \n",
    "print(\"World\") #this is also a comment"
   ]
  },
  {
   "cell_type": "markdown",
   "id": "9d778989-9561-4d8c-b8cf-b9da748e9e8b",
   "metadata": {},
   "source": [
    "## **Q2. What are variables in Python? How do you declare and assign values to variables?**\n",
    "\n",
    "### Variables are used *to store data values*, just like containers.\n",
    "### In python, we don't need to declare a variable with specefic data type.\n",
    "### It is declared the moment when we assign any data value to it.\n",
    "### note:- varible name can't be start from a number and special character.\n",
    "### below are the examples given"
   ]
  },
  {
   "cell_type": "code",
   "execution_count": 5,
   "id": "9002b3c9-24d1-4ac1-911b-8545f8594979",
   "metadata": {},
   "outputs": [],
   "source": [
    "var1=3 # varible declared, named ' var1 ' is assigned int data type value"
   ]
  },
  {
   "cell_type": "code",
   "execution_count": 6,
   "id": "a0a230f8-1aef-4573-933e-c21f75eab59a",
   "metadata": {},
   "outputs": [
    {
     "data": {
      "text/plain": [
       "3"
      ]
     },
     "execution_count": 6,
     "metadata": {},
     "output_type": "execute_result"
    }
   ],
   "source": [
    "var1"
   ]
  },
  {
   "cell_type": "code",
   "execution_count": 7,
   "id": "7dc9bdba-2fd0-4dc7-b466-00dab1554f26",
   "metadata": {},
   "outputs": [],
   "source": [
    "var2='This is string data type variable'"
   ]
  },
  {
   "cell_type": "code",
   "execution_count": 8,
   "id": "77ea4d0c-fcdd-42d3-982d-9d37a7393a3f",
   "metadata": {},
   "outputs": [
    {
     "data": {
      "text/plain": [
       "'This is string data type variable'"
      ]
     },
     "execution_count": 8,
     "metadata": {},
     "output_type": "execute_result"
    }
   ],
   "source": [
    "var2"
   ]
  },
  {
   "cell_type": "code",
   "execution_count": 9,
   "id": "7c9f7f66-7f55-46cd-8f65-91241782ec85",
   "metadata": {},
   "outputs": [],
   "source": [
    "var3=4.425"
   ]
  },
  {
   "cell_type": "code",
   "execution_count": 10,
   "id": "a501f094-3ad5-472d-9693-57ddc92c6274",
   "metadata": {},
   "outputs": [
    {
     "data": {
      "text/plain": [
       "4.425"
      ]
     },
     "execution_count": 10,
     "metadata": {},
     "output_type": "execute_result"
    }
   ],
   "source": [
    "var3"
   ]
  },
  {
   "cell_type": "markdown",
   "id": "b61c8bf2-5dcd-4cb1-aec5-8e57c375b0c9",
   "metadata": {},
   "source": [
    "## **Q3. How do you convert one data type to another in Python?**\n",
    "\n",
    "### To convert a variable from one data type to another in python we can simply assign (or update) with new value of desired data type or we can do type casting."
   ]
  },
  {
   "cell_type": "code",
   "execution_count": 11,
   "id": "0a091078-7999-403f-bdc3-4a49c4a7e301",
   "metadata": {},
   "outputs": [],
   "source": [
    "var4=45 # this is 'Int' data type variabe"
   ]
  },
  {
   "cell_type": "code",
   "execution_count": 12,
   "id": "3d5745f8-777e-4ef1-9267-954a44080f14",
   "metadata": {},
   "outputs": [
    {
     "data": {
      "text/plain": [
       "45"
      ]
     },
     "execution_count": 12,
     "metadata": {},
     "output_type": "execute_result"
    }
   ],
   "source": [
    "var4"
   ]
  },
  {
   "cell_type": "code",
   "execution_count": 13,
   "id": "f5561e41-c501-4882-8805-051691ebdd50",
   "metadata": {},
   "outputs": [
    {
     "data": {
      "text/plain": [
       "int"
      ]
     },
     "execution_count": 13,
     "metadata": {},
     "output_type": "execute_result"
    }
   ],
   "source": [
    "type(var4)"
   ]
  },
  {
   "cell_type": "code",
   "execution_count": 14,
   "id": "b81ed6e1-8f2b-4989-88d0-0aa66aa4ac35",
   "metadata": {},
   "outputs": [],
   "source": [
    "var4=3+7j # data type of variable ' var4 ' changed to complex data type"
   ]
  },
  {
   "cell_type": "code",
   "execution_count": 15,
   "id": "794f73ed-2f66-4887-b339-733454538539",
   "metadata": {},
   "outputs": [
    {
     "data": {
      "text/plain": [
       "(3+7j)"
      ]
     },
     "execution_count": 15,
     "metadata": {},
     "output_type": "execute_result"
    }
   ],
   "source": [
    "var4"
   ]
  },
  {
   "cell_type": "code",
   "execution_count": 16,
   "id": "d98a6c1a-8e20-4c49-85d7-7dcdd9895eb3",
   "metadata": {},
   "outputs": [
    {
     "data": {
      "text/plain": [
       "complex"
      ]
     },
     "execution_count": 16,
     "metadata": {},
     "output_type": "execute_result"
    }
   ],
   "source": [
    "type(var4)"
   ]
  },
  {
   "cell_type": "code",
   "execution_count": 17,
   "id": "25454559-000c-4aae-8435-44f2a275c482",
   "metadata": {},
   "outputs": [],
   "source": [
    "var5=56.525"
   ]
  },
  {
   "cell_type": "code",
   "execution_count": 18,
   "id": "f790acb3-e1be-4395-b77f-a8ee9bae27a3",
   "metadata": {},
   "outputs": [
    {
     "data": {
      "text/plain": [
       "56.525"
      ]
     },
     "execution_count": 18,
     "metadata": {},
     "output_type": "execute_result"
    }
   ],
   "source": [
    "var5"
   ]
  },
  {
   "cell_type": "code",
   "execution_count": 19,
   "id": "0c9b2cec-958f-481d-9e13-72ceb02fa734",
   "metadata": {},
   "outputs": [
    {
     "data": {
      "text/plain": [
       "float"
      ]
     },
     "execution_count": 19,
     "metadata": {},
     "output_type": "execute_result"
    }
   ],
   "source": [
    "type(var5)"
   ]
  },
  {
   "cell_type": "code",
   "execution_count": 20,
   "id": "c1241e24-c5b7-4247-b406-a8640790b1c8",
   "metadata": {},
   "outputs": [],
   "source": [
    "var5=int(var5) # variable ' var5 ' typecasted to int from float data type. "
   ]
  },
  {
   "cell_type": "code",
   "execution_count": 21,
   "id": "027aff2e-6d9f-4bb0-8a40-1097ca15db9c",
   "metadata": {},
   "outputs": [
    {
     "data": {
      "text/plain": [
       "56"
      ]
     },
     "execution_count": 21,
     "metadata": {},
     "output_type": "execute_result"
    }
   ],
   "source": [
    "var5"
   ]
  },
  {
   "cell_type": "code",
   "execution_count": 22,
   "id": "dc091ee5-5b8c-4ec6-8a16-3ff0ee95f034",
   "metadata": {},
   "outputs": [
    {
     "data": {
      "text/plain": [
       "int"
      ]
     },
     "execution_count": 22,
     "metadata": {},
     "output_type": "execute_result"
    }
   ],
   "source": [
    "type(var5)"
   ]
  },
  {
   "cell_type": "code",
   "execution_count": 23,
   "id": "37eb8629-007f-46dc-b19a-58c1c0920792",
   "metadata": {},
   "outputs": [],
   "source": [
    "# another example\n",
    "var6='72.450' # str data type"
   ]
  },
  {
   "cell_type": "code",
   "execution_count": 24,
   "id": "32ab4136-ce5b-465d-a5a5-7a29eb329bb3",
   "metadata": {},
   "outputs": [
    {
     "data": {
      "text/plain": [
       "'72.450'"
      ]
     },
     "execution_count": 24,
     "metadata": {},
     "output_type": "execute_result"
    }
   ],
   "source": [
    "var6"
   ]
  },
  {
   "cell_type": "code",
   "execution_count": 25,
   "id": "1f79f5b6-ba18-4434-8448-52f106314de8",
   "metadata": {},
   "outputs": [
    {
     "data": {
      "text/plain": [
       "str"
      ]
     },
     "execution_count": 25,
     "metadata": {},
     "output_type": "execute_result"
    }
   ],
   "source": [
    "type(var6)"
   ]
  },
  {
   "cell_type": "code",
   "execution_count": 26,
   "id": "b844ed67-088e-4bec-8633-522e955668dd",
   "metadata": {},
   "outputs": [],
   "source": [
    "var6=float(var6)"
   ]
  },
  {
   "cell_type": "code",
   "execution_count": 27,
   "id": "18ecbefb-13d0-4290-b34f-fa35a8032aab",
   "metadata": {},
   "outputs": [
    {
     "data": {
      "text/plain": [
       "72.45"
      ]
     },
     "execution_count": 27,
     "metadata": {},
     "output_type": "execute_result"
    }
   ],
   "source": [
    "var6"
   ]
  },
  {
   "cell_type": "code",
   "execution_count": 28,
   "id": "b00f4568-acf0-4e78-8d71-26491c9bde17",
   "metadata": {},
   "outputs": [
    {
     "data": {
      "text/plain": [
       "float"
      ]
     },
     "execution_count": 28,
     "metadata": {},
     "output_type": "execute_result"
    }
   ],
   "source": [
    "type(var6)"
   ]
  },
  {
   "cell_type": "markdown",
   "id": "f2de51d3-26da-43aa-8f05-f748cc238b7a",
   "metadata": {},
   "source": [
    "## **Q4. How do you write and execute a Python script from the command line?**\n",
    "\n",
    "### Step1. Write a python code in notepad or in any other program and save it as '.py' extension.\n",
    "### Step2. Open comand prompt and change directory to where your '.py' file is saved.\n",
    "### Step3. There type 'python your_file_name.py' and your python script will be executed."
   ]
  },
  {
   "cell_type": "markdown",
   "id": "2d164141-5196-4953-9eb5-92416d76bf70",
   "metadata": {},
   "source": [
    "## **Q5. Given a list my_list = [1, 2, 3, 4, 5], write the code to slice the list and obtain the sub-list [2, 3].**"
   ]
  },
  {
   "cell_type": "code",
   "execution_count": 29,
   "id": "315a0715-6969-40e6-9f33-30267794185f",
   "metadata": {},
   "outputs": [
    {
     "data": {
      "text/plain": [
       "[2, 3]"
      ]
     },
     "execution_count": 29,
     "metadata": {},
     "output_type": "execute_result"
    }
   ],
   "source": [
    "my_list=[1,2,3,4,5]\n",
    "my_list[1:3:] # list[ start : end : index_jump ]"
   ]
  },
  {
   "cell_type": "markdown",
   "id": "7feedfb4-963a-493f-80cc-476b906c47af",
   "metadata": {},
   "source": [
    "## **Q6. What is a complex number in mathematics, and how is it represented in Python?**\n",
    "\n",
    "### In mathematics, Complex Numbers are introduced to get solution for these type of equations $( x^2=-1 )$, for which solution cannot be obtained in real numbers.\n",
    "### Complex numbers are expressed in form of $a+ib$, where 'a' is called real part and 'b' is called imaginary part.\n",
    "### 'i' is called iota and have value $i = (-1)^(1/2)$\n",
    "### In python iota is represented by letter 'j', a complex number looks like $a+jb$\n",
    "### We can get real and imaginary parts by using complex_number.real and complex_number.imag"
   ]
  },
  {
   "cell_type": "code",
   "execution_count": 30,
   "id": "16d276e0-6121-4940-8e6a-bb2a11c40bd3",
   "metadata": {},
   "outputs": [],
   "source": [
    "com_var1=5+9j"
   ]
  },
  {
   "cell_type": "code",
   "execution_count": 31,
   "id": "fec77f47-ea6c-44d6-90c1-6024cc9a55cd",
   "metadata": {},
   "outputs": [],
   "source": [
    "com_var2=3+7j"
   ]
  },
  {
   "cell_type": "code",
   "execution_count": 32,
   "id": "37a6089a-62a6-4347-ad94-0b6ba9cd5025",
   "metadata": {},
   "outputs": [
    {
     "data": {
      "text/plain": [
       "(8+16j)"
      ]
     },
     "execution_count": 32,
     "metadata": {},
     "output_type": "execute_result"
    }
   ],
   "source": [
    "com_var1+com_var2"
   ]
  },
  {
   "cell_type": "code",
   "execution_count": 33,
   "id": "957bb176-0a8c-46f2-a045-98dd7b7c4b0b",
   "metadata": {},
   "outputs": [
    {
     "data": {
      "text/plain": [
       "9.0"
      ]
     },
     "execution_count": 33,
     "metadata": {},
     "output_type": "execute_result"
    }
   ],
   "source": [
    "com_var1.imag"
   ]
  },
  {
   "cell_type": "code",
   "execution_count": 34,
   "id": "fcc62d98-3309-40f9-ba5a-162dd2db5b97",
   "metadata": {},
   "outputs": [
    {
     "data": {
      "text/plain": [
       "5.0"
      ]
     },
     "execution_count": 34,
     "metadata": {},
     "output_type": "execute_result"
    }
   ],
   "source": [
    "com_var1.real"
   ]
  },
  {
   "cell_type": "code",
   "execution_count": 35,
   "id": "faf1e1fc-a900-442f-980f-e0729ccfde8c",
   "metadata": {},
   "outputs": [],
   "source": [
    "# another example\n",
    "a=45\n",
    "b=34\n",
    "c=complex(a,b)"
   ]
  },
  {
   "cell_type": "code",
   "execution_count": 36,
   "id": "3f56aa34-4c88-4699-a484-811b6e5698d8",
   "metadata": {},
   "outputs": [
    {
     "data": {
      "text/plain": [
       "(45+34j)"
      ]
     },
     "execution_count": 36,
     "metadata": {},
     "output_type": "execute_result"
    }
   ],
   "source": [
    "c"
   ]
  },
  {
   "cell_type": "code",
   "execution_count": 37,
   "id": "1f97623a-9db3-45ad-a46c-a08ca207281b",
   "metadata": {},
   "outputs": [
    {
     "data": {
      "text/plain": [
       "complex"
      ]
     },
     "execution_count": 37,
     "metadata": {},
     "output_type": "execute_result"
    }
   ],
   "source": [
    "type(c)"
   ]
  },
  {
   "cell_type": "markdown",
   "id": "a6dc49fd-be56-4f27-9a2b-f258c34e38e1",
   "metadata": {},
   "source": [
    "## **Q7. What is the correct way to declare a variable named age and assign the value 25 to it?**\n",
    "\n",
    "### >A variable name can be start from a letter or an underscore ( ' _ ' ).\n",
    "### >A variable name cannot be start from a number or a special character.\n",
    "### >A varible name should not be a python reserved word.\n",
    "### >Varible names are case sensitive 'age' and 'Age' are two different variables.\n",
    "### >A varible name should be relevant."
   ]
  },
  {
   "cell_type": "code",
   "execution_count": 38,
   "id": "676d2a79-90ee-4f69-abb1-1c31e7ef8ad9",
   "metadata": {},
   "outputs": [],
   "source": [
    "age=25"
   ]
  },
  {
   "cell_type": "code",
   "execution_count": 39,
   "id": "d929214b-ac6e-4010-ae73-6b18a305e1b3",
   "metadata": {},
   "outputs": [
    {
     "data": {
      "text/plain": [
       "25"
      ]
     },
     "execution_count": 39,
     "metadata": {},
     "output_type": "execute_result"
    }
   ],
   "source": [
    "age"
   ]
  },
  {
   "cell_type": "markdown",
   "id": "a276e81a-c861-4436-9976-8a6c657c7490",
   "metadata": {},
   "source": [
    "## **Q8. Declare a variable named price and assign the value 9.99 to it. What data type does this variable belong to**\n",
    "\n",
    "### It belongs to float data type."
   ]
  },
  {
   "cell_type": "code",
   "execution_count": 40,
   "id": "4c2d2eb8-38a1-434a-a4b4-a6182a4ab715",
   "metadata": {},
   "outputs": [],
   "source": [
    "price=9.99"
   ]
  },
  {
   "cell_type": "code",
   "execution_count": 41,
   "id": "8fd17824-d0ae-4ff2-a78e-e16efc5b2758",
   "metadata": {},
   "outputs": [
    {
     "data": {
      "text/plain": [
       "float"
      ]
     },
     "execution_count": 41,
     "metadata": {},
     "output_type": "execute_result"
    }
   ],
   "source": [
    "type(price)"
   ]
  },
  {
   "cell_type": "markdown",
   "id": "47f9294e-36d0-4519-a264-b8ab463e6da8",
   "metadata": {},
   "source": [
    "## **Q9. Create a variable named name and assign your full name to it as a string. How would you print the value of this variable?**"
   ]
  },
  {
   "cell_type": "code",
   "execution_count": 42,
   "id": "9f6830d7-c156-4ad4-bd23-2045d27f4330",
   "metadata": {},
   "outputs": [],
   "source": [
    "name='Tanmay Sharma'"
   ]
  },
  {
   "cell_type": "code",
   "execution_count": 43,
   "id": "c0518fb4-0656-40cc-b805-7a2a22a0586a",
   "metadata": {},
   "outputs": [
    {
     "name": "stdout",
     "output_type": "stream",
     "text": [
      "Tanmay Sharma\n"
     ]
    }
   ],
   "source": [
    "# method 1\n",
    "print(name)"
   ]
  },
  {
   "cell_type": "code",
   "execution_count": 44,
   "id": "29691929-6906-48f5-bf54-7cfa976d28e9",
   "metadata": {},
   "outputs": [
    {
     "data": {
      "text/plain": [
       "'Tanmay Sharma'"
      ]
     },
     "execution_count": 44,
     "metadata": {},
     "output_type": "execute_result"
    }
   ],
   "source": [
    "# method 2\n",
    "name[::]"
   ]
  },
  {
   "cell_type": "code",
   "execution_count": 45,
   "id": "8b40a588-c68c-4d8b-abfc-b4778cbc2ee7",
   "metadata": {},
   "outputs": [
    {
     "name": "stdout",
     "output_type": "stream",
     "text": [
      "Tanmay Sharma"
     ]
    }
   ],
   "source": [
    "# method 3\n",
    "for i in name:\n",
    "    print(i,end='')"
   ]
  },
  {
   "cell_type": "markdown",
   "id": "5a8f9622-9455-45ee-ab2b-30c1fdb08cea",
   "metadata": {},
   "source": [
    "## **Q10. Given the string \"Hello, World!\", extract the substring \"World\".**"
   ]
  },
  {
   "cell_type": "code",
   "execution_count": 46,
   "id": "49098ab3-44f7-4e48-a9d2-e7c5b4c0a4d1",
   "metadata": {},
   "outputs": [],
   "source": [
    "string1='Hello, World!'"
   ]
  },
  {
   "cell_type": "code",
   "execution_count": 47,
   "id": "0fa7a30c-43c3-4b1b-ab1b-71984e0639cf",
   "metadata": {},
   "outputs": [
    {
     "data": {
      "text/plain": [
       "'World'"
      ]
     },
     "execution_count": 47,
     "metadata": {},
     "output_type": "execute_result"
    }
   ],
   "source": [
    "string1[7:12:]"
   ]
  },
  {
   "cell_type": "markdown",
   "id": "545283af-1084-4b2f-a881-053046b0d38e",
   "metadata": {},
   "source": [
    "## **Q11. Create a variable named \"is_student\" and assign it a boolean value indicating whether you are currently a student or not**"
   ]
  },
  {
   "cell_type": "code",
   "execution_count": 48,
   "id": "46e8c36c-869b-42ab-b440-fe5ffe53efee",
   "metadata": {},
   "outputs": [
    {
     "name": "stdin",
     "output_type": "stream",
     "text": [
      "Input value 0\n"
     ]
    },
    {
     "name": "stdout",
     "output_type": "stream",
     "text": [
      "You are not a student.\n"
     ]
    }
   ],
   "source": [
    "is_student=int(input('Input value'))\n",
    "if is_student==True:\n",
    "    print('You are a student.')\n",
    "elif is_student==False:\n",
    "    print('You are not a student.')\n",
    "else:\n",
    "    print('Wrong input. Please enter only boolean values 0 or 1')"
   ]
  }
 ],
 "metadata": {
  "kernelspec": {
   "display_name": "Python 3 (ipykernel)",
   "language": "python",
   "name": "python3"
  },
  "language_info": {
   "codemirror_mode": {
    "name": "ipython",
    "version": 3
   },
   "file_extension": ".py",
   "mimetype": "text/x-python",
   "name": "python",
   "nbconvert_exporter": "python",
   "pygments_lexer": "ipython3",
   "version": "3.10.8"
  }
 },
 "nbformat": 4,
 "nbformat_minor": 5
}
