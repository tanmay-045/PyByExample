{
 "cells": [
  {
   "cell_type": "markdown",
   "id": "66651700-b7a4-4920-80dd-b9ddd1f18567",
   "metadata": {},
   "source": [
    "### Q1. What is a database? Differentiate between SQl and NoSQL databases.\n",
    "A database is an electronically stored, systematic collection of data.\n",
    "It can contain any type of data, including words, numbers, images, videos, and files. \n",
    "You can use software called a database management system (DBMS) to store, retrieve, and edit data.\n",
    "\n",
    "| SQL | NoSQL |\n",
    "|---|---|\n",
    "| 'Structured Query Language' |  'Not only SQL'|\n",
    "| are primarily called Relational Databases (RDBMS). | are primarily called non-relational or distributed databases. |\n",
    "| Data is stored in tabular form. | Data is stored in many ways which means it can be document-oriented, column-oriented, graph-based, or organized as a key-value store. |\n",
    "|Examples: MySQL, PostgreSQL, Oracle, MS-SQL Server, etc | Examples: MongoDB, HBase, Neo4j, Cassandra, etc|"
   ]
  },
  {
   "cell_type": "markdown",
   "id": "5d0cce3c-0d41-436b-838f-cb31b362ede0",
   "metadata": {},
   "source": [
    "### Q2. What is DDL? Explain why CREATE, DROP, ALTER, and TRUNCATE are used with an example.\n",
    "\n",
    "DDL or Data Definition Language actually consists of the SQL commands that can be used to define the database schema.\n",
    "It simply deals with descriptions of the database schema and is used to create and modify,\n",
    "the structure of database objects in the database.\n",
    "DDL is a set of SQL commands used to create, modify, and delete database structures but not data.\n",
    "\n",
    "CREATE <br>\n",
    "Create database or its objects (table, index, function, views, store procedure, and triggers). <br>\n",
    "e.g. \" CREATE TABLE students (RollNo INT, student_name VARCHAR(30), result VARCHAR(10)); \" <br>\n",
    "<br>\n",
    "DROP<br>\n",
    "Delete objects from the database <br>\n",
    "e.g. \" DROP TABLE students; \"<br>\n",
    "<br>\n",
    "ALTER <br>\n",
    "Alter the structure of the database <br>\n",
    "e.g. \" ALTER TABLE students ADD COLUMN class VARCHAR; \"<br>\n",
    "<br>\n",
    "TRUNCATE<br>\n",
    "Remove all records from a table, including all spaces allocated for the records are removed.<br>\t\n",
    "e.g. \" TRUNCATE TABLE table_name; <br>"
   ]
  },
  {
   "cell_type": "markdown",
   "id": "ab6c26c0-7d6a-49f2-9994-ba6052f6bcd4",
   "metadata": {},
   "source": [
    "### Q3. What is DML? Explain INSERT, UPDATE, and DELETE with an example.\n",
    "\n",
    "The SQL commands that deal with the manipulation of data present in the database belong to DML\n",
    "or Data Manipulation Language and this includes most of the SQL statements.<br>\n",
    "\n",
    "INSERT <br>\n",
    "Insert data into a table <br>\t\n",
    "e.g. \" INSERT INTO students(rollno,name,result,class) VALUES (1001,'Jam','Pass','Fifth'); \" <br>\n",
    "\n",
    "UPDATE <br>\n",
    "existing data within a table <br>\n",
    "e.g. \" UPDATE students SET result = 'Fail' WHERE RollNo=1001; \" <br>\n",
    "\n",
    "DELETE <br>\t\n",
    "Delete records from a database table <br>\t\n",
    "e.g. \" DELETE FROM student WHERE RollNo=1001; \" <br>"
   ]
  },
  {
   "cell_type": "markdown",
   "id": "c7be28b9-3a6a-4212-8208-897169398923",
   "metadata": {},
   "source": [
    "### Q4. What is DQL? Explain SELECT with an example.\n",
    "\n",
    "DQL (Data Query Language) statements are used for performing queries on the data within schema objects. The purpose of the DQL Command is to get some schema relation based on the query passed to it.<br>\n",
    "\n",
    "There is only one DQL command in SQL i.e. SELECT<br>\n",
    "\n",
    "SELECT<br>\n",
    "It is used to retrieve data from the database.<br>\n",
    "e.g. \" SELECT RollNo,results FROM students; \""
   ]
  },
  {
   "cell_type": "markdown",
   "id": "297d61c0-8d52-4241-9b6f-765d6b62beac",
   "metadata": {},
   "source": [
    "### Q5. Explain Primary Key and Foreign Key.\n",
    "\n",
    "PRIMARY KEY<br>\n",
    "A unique identifier for each row in a table, such as an employee ID, first name, or last name. \n",
    "Primary keys enforce entity integrity and ensure uniqueness and data integrity within a single table.\n",
    "They can be made from one or more table fields and only one primary key is allowed per table.\n",
    "Primary key values rarely change and cannot contain null values or duplicates.<br>\n",
    "\n",
    "FOREIGN KEY<br>\n",
    "A column or group of columns that establishes a relationship between two tables by referencing the primary key of another table. \n",
    "Foreign keys ensure data consistency and accuracy. \n",
    "For example, in an orders table, a foreign key could associate each row with a specific user from a users table.\n",
    "This would prevent orders from entering the system unless they are connected to a valid, existing user.\n",
    "A table can have more than one foreign key, and foreign key values can be null unless the column is defined as NOT NULL."
   ]
  },
  {
   "cell_type": "markdown",
   "id": "d2e5e5bd-3a36-453f-833b-c3b3b32b0d98",
   "metadata": {},
   "source": [
    "### Q6. Write a python code to connect MySQL to python. Explain the cursor() and execute() method.\n",
    "\n",
    "The cursor() and execute() commands in Python are used to interact with databases. The cursor() command creates a cursor object, which is used to execute SQL statements. The execute() command executes an SQL statement on the database.\n",
    "\n",
    "below is the example given:-\n",
    "\n",
    "\n",
    "----------------<br>\n",
    "import mysql.connector<br>\n",
    "#Create a connection to the database<br>\n",
    "connection = mysql.connector.connect(host='localhost',\n",
    "                                         database='my_database',\n",
    "                                         user='root',\n",
    "                                         password='my_password')<br>\n",
    "\n",
    "#Create a cursor object<br>\n",
    "cursor = connection.cursor()<br>\n",
    "\n",
    "#Execute an SQL statement<br>\n",
    "cursor.execute('SELECT * FROM my_table')<br>\n",
    "\n",
    "#Get the results of the query<br>\n",
    "results = cursor.fetchall()<br>\n",
    "\n",
    "#Print the results<br>\n",
    "for row in results:<br>\n",
    "print(row)<br>\n",
    "\n",
    "#Close the cursor and the connection<br>\n",
    "cursor.close()<br>\n",
    "connection.close()<br>"
   ]
  },
  {
   "cell_type": "markdown",
   "id": "44461dca-dc9f-4d88-a1f8-403f52487be5",
   "metadata": {},
   "source": [
    "### Q7. Give the order of execution of SQL clauses in an SQL query.\n",
    "\n",
    "Order of execution is:- <br>\n",
    "FROM/JOIN: Determines the data of interest.<br>\n",
    "WHERE: Filters out records that don't meet the constraints.<br>\n",
    "GROUP BY: Groups information based on one or more columns.<br>\n",
    "HAVING: Filters the grouped data.<br>\n",
    "SELECT: The last clause.<br>\n",
    "ORDER BY: Sorts the data based on specific column(s) in ascending or descending order.<br>\n",
    "LIMIT/OFFSET: Displays only the rows that fall within the LIMIT.<br>"
   ]
  }
 ],
 "metadata": {
  "kernelspec": {
   "display_name": "Python 3 (ipykernel)",
   "language": "python",
   "name": "python3"
  },
  "language_info": {
   "codemirror_mode": {
    "name": "ipython",
    "version": 3
   },
   "file_extension": ".py",
   "mimetype": "text/x-python",
   "name": "python",
   "nbconvert_exporter": "python",
   "pygments_lexer": "ipython3",
   "version": "3.10.8"
  }
 },
 "nbformat": 4,
 "nbformat_minor": 5
}
