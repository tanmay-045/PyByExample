{
 "cells": [
  {
   "cell_type": "markdown",
   "id": "924bdb89-4970-430f-acc9-68e32696dc5c",
   "metadata": {},
   "source": [
    "## Q1. What is multiprocessing in python? Why is it useful?\n",
    "Multiprocessing is a module that allows the creation, synchronization, and communication between separate processes. It enables parallelism by allowing multiple processes to run independently and concurrently. Each process has its own memory space, resources, and Python interpreter, making it distinct from threading, where threads share the same memory space.<br>\n",
    "It is useful because of the following reasons:-\n",
    "<br>Parallelism: Enables concurrent execution of tasks for improved performance on multi-core systems.\n",
    "<br>Isolation: Processes run independently with separate memory, preventing interference between tasks.\n",
    "<br>Fault Isolation: Process failures or errors in one don't affect others, enhancing system robustness.\n",
    "<br>Resource Utilization: Efficiently utilizes system resources by assigning processes to different CPU cores.\n",
    "<br>Scalability: Facilitates scaling on multi-core systems, leveraging increased parallelism for enhanced performance."
   ]
  },
  {
   "cell_type": "markdown",
   "id": "6fde0ed7-f750-44da-bc21-3de867ef9443",
   "metadata": {},
   "source": [
    "## Q2. What are the differences between multiprocessing and multithreading?<br>\n",
    "There are several differences, some major ones are listed below:-<br>\n",
    "### Definition:\n",
    "Multiprocessing: Involves the execution of multiple processes, each with its own memory space and Python interpreter.\n",
    "<br>Multithreading: Involves the execution of multiple threads within the same process, sharing the same memory space.\n",
    "\n",
    "### Concurrency vs. Parallelism:\n",
    "Multiprocessing: Achieves parallelism by running processes simultaneously on multiple CPU cores.\n",
    "<br>Multithreading: Achieves concurrency, as threads may run concurrently, but true parallelism is limited to the number of CPU cores available due to the Global Interpreter Lock (GIL) in CPython.\n",
    "\n",
    "### Isolation:\n",
    "Multiprocessing: Processes are isolated, with separate memory spaces, making them less prone to interference and providing better fault isolation.\n",
    "<br>Multithreading: Threads within the same process share the same memory space, making them prone to data interference and requiring synchronization mechanisms.\n",
    "\n",
    "### Performance:\n",
    "Multiprocessing: Can provide better performance for CPU-bound tasks that benefit from parallel execution on multiple cores.\n",
    "<br>Multithreading: Typically more suitable for I/O-bound tasks where threads can wait for input/output operations without blocking the entire process.\n",
    "\n",
    "### Use Cases:\n",
    "Multiprocessing: Well-suited for CPU-intensive tasks, parallel algorithms, and tasks requiring independent memory space.\n",
    "<br>Multithreading: Effective for I/O-bound tasks, GUI applications, and scenarios with shared data and communication requirements within the same process."
   ]
  },
  {
   "cell_type": "markdown",
   "id": "b074a5a7-969f-4826-b2ad-d53411587a86",
   "metadata": {},
   "source": [
    "## Q3. Write a python code to create a process using the multiprocessing module."
   ]
  },
  {
   "cell_type": "code",
   "execution_count": 1,
   "id": "6d46fafc-cede-497b-b06d-bc856c72135e",
   "metadata": {},
   "outputs": [
    {
     "name": "stdout",
     "output_type": "stream",
     "text": [
      "This is main fun\n",
      "This is the test fun\n"
     ]
    }
   ],
   "source": [
    "import multiprocessing\n",
    "\n",
    "def test():\n",
    "    print(\"This is the test fun\")\n",
    "    \n",
    "if __name__ == \"__main__\" :\n",
    "    m=multiprocessing.Process(target=test)\n",
    "    print(\"This is main fun\")\n",
    "    m.start()\n",
    "    m.join()"
   ]
  },
  {
   "cell_type": "markdown",
   "id": "1b696869-8337-48b7-99cf-1c4d646c5d9d",
   "metadata": {},
   "source": [
    "## Q4. What is a multiprocessing pool in python? Why is it used?\n",
    "A multiprocessing pool is a high-level abstraction that provides a convenient way to parallelize the execution of a function across multiple input values. The primary class for creating a pool of worker processes is 'multiprocessing.Pool'. The pool distributes the input data among the available processes, allowing them to work in parallel.\n",
    "<br>It is used because:-\n",
    "<br>**Parallel Execution:** The main purpose of a multiprocessing pool is to parallelize the execution of a function. It divides the input data into chunks and distributes the work among multiple processes in the pool, utilizing the available CPU cores for parallel processing.\n",
    "<br>**Simplified Parallelism:** Using a pool abstracts away the complexity of managing individual processes and inter-process communication. It provides a higher-level interface, making it easier for developers to parallelize their code without dealing with low-level details.\n",
    "<br>**Efficient Resource Utilization:** Pools help in efficiently utilizing system resources, as each process in the pool can execute a separate task concurrently. This is particularly useful for CPU-bound tasks that can benefit from parallelism.\n",
    "<br>**Load Balancing:** The pool automatically handles the distribution of tasks among processes, ensuring a more balanced workload. This can lead to better overall performance by preventing situations where some processes finish quickly while others are still working."
   ]
  },
  {
   "cell_type": "markdown",
   "id": "dceada7f-ed8a-4b2c-86b1-803612866a10",
   "metadata": {},
   "source": [
    "## Q5. How can we create a pool of worker processes in python using the multiprocessing module?\n",
    "We can create a pool of worker processes using the multiprocessing module. The main class for creating a pool is 'multiprocessing.Pool'.\n",
    "<br>Example:"
   ]
  },
  {
   "cell_type": "code",
   "execution_count": 2,
   "id": "a3aa2f4f-7802-4369-b698-33dde8134585",
   "metadata": {},
   "outputs": [
    {
     "name": "stdout",
     "output_type": "stream",
     "text": [
      "Worker process ForkPoolWorker-2 calculated 1 squared: 1\n",
      "Worker process ForkPoolWorker-4 calculated 3 squared: 9\n",
      "Worker process ForkPoolWorker-3 calculated 2 squared: 4\n",
      "\n",
      "\n",
      "\n",
      "Worker process ForkPoolWorker-2 calculated 4 squared: 16\n",
      "Worker process ForkPoolWorker-4 calculated 5 squared: 25\n",
      "\n",
      "\n",
      "Original Input Values: [1, 2, 3, 4, 5]\n",
      "Results: [1, 4, 9, 16, 25]\n"
     ]
    }
   ],
   "source": [
    "import multiprocessing\n",
    "\n",
    "def worker_function(x):\n",
    "    \"\"\"A simple function to demonstrate work done by each worker.\"\"\"\n",
    "    result = x * x\n",
    "    print(f\"Worker process {multiprocessing.current_process().name} calculated {x} squared: {result}\\n\")\n",
    "    return result\n",
    "\n",
    "if __name__ == \"__main__\":\n",
    "    # Create a multiprocessing Pool with 3 processes\n",
    "    with multiprocessing.Pool(processes=3) as pool:\n",
    "        # Define a list of input values\n",
    "        input_values = [1, 2, 3, 4, 5]\n",
    "\n",
    "        # Use the map function to apply the worker_function to each input value\n",
    "        results = pool.map(worker_function, input_values)\n",
    "\n",
    "    # The pool is automatically closed and joined when exiting the 'with' block\n",
    "\n",
    "    print(\"Original Input Values:\", input_values)\n",
    "    print(\"Results:\", results)"
   ]
  },
  {
   "cell_type": "markdown",
   "id": "6c8849c9-ad9e-428f-9be4-bf8cb97289ea",
   "metadata": {},
   "source": [
    "## Q6. Write a python program to create 4 processes, each process should print a different number using the multiprocessing module in python."
   ]
  },
  {
   "cell_type": "code",
   "execution_count": 3,
   "id": "516963f0-fa35-4d6f-a041-3b5d6d85a08b",
   "metadata": {},
   "outputs": [
    {
     "name": "stdout",
     "output_type": "stream",
     "text": [
      "Process Process-5 prints: 1\n",
      "Process Process-6 prints: 2\n",
      "Process Process-7 prints: 3\n",
      "Process Process-8 prints: 4\n",
      "Main process continues.\n"
     ]
    }
   ],
   "source": [
    "import multiprocessing\n",
    "\n",
    "def print_number(number):\n",
    "    \"\"\"Prints a given number.\"\"\"\n",
    "    print(f\"Process {multiprocessing.current_process().name} prints: {number}\")\n",
    "\n",
    "if __name__ == \"__main__\":\n",
    "    # Create a list of numbers to be printed by each process\n",
    "    numbers = [1, 2, 3, 4]\n",
    "\n",
    "    # Create 4 processes\n",
    "    processes = []\n",
    "\n",
    "    for number in numbers:\n",
    "        process = multiprocessing.Process(target=print_number, args=(number,))\n",
    "        processes.append(process)\n",
    "        process.start()\n",
    "\n",
    "    # Wait for all processes to finish\n",
    "    for process in processes:\n",
    "        process.join()\n",
    "\n",
    "    print(\"Main process continues.\")"
   ]
  },
  {
   "cell_type": "markdown",
   "id": "55500e27-bff8-404f-8095-6ef712be4c14",
   "metadata": {},
   "source": [
    "Code Flow:-\n",
    "<br>The print_number function takes a number as a parameter and prints it along with the name of the current process.\n",
    "<br>Inside the __name__ == \"__main__\" block, a list of numbers is created.\n",
    "<br>A loop is used to create 4 processes, each targeting the print_number function with a different number as an argument.\n",
    "<br>The processes are started using the start() method.\n",
    "<br>Another loop is used to wait for all processes to finish using the join() method.\n",
    "<br>The main process prints \"Main process continues.\" after all child processes have completed."
   ]
  }
 ],
 "metadata": {
  "kernelspec": {
   "display_name": "Python 3 (ipykernel)",
   "language": "python",
   "name": "python3"
  },
  "language_info": {
   "codemirror_mode": {
    "name": "ipython",
    "version": 3
   },
   "file_extension": ".py",
   "mimetype": "text/x-python",
   "name": "python",
   "nbconvert_exporter": "python",
   "pygments_lexer": "ipython3",
   "version": "3.10.8"
  }
 },
 "nbformat": 4,
 "nbformat_minor": 5
}
